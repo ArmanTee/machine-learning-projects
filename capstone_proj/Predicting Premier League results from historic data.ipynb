{
 "cells": [
  {
   "cell_type": "markdown",
   "metadata": {},
   "source": [
    "# Predicting Premier League match results based on historic data"
   ]
  },
  {
   "cell_type": "markdown",
   "metadata": {},
   "source": [
    "#  1 Introduction & Project Overview"
   ]
  },
  {
   "cell_type": "markdown",
   "metadata": {},
   "source": [
    "In recent years, bookmakers have made use of a multiple sophisticated strategies in order\n",
    "to set odds at a level where the least exposure to risk (hence the most chance of steady\n",
    "profit) and the maximum attractiveness to clients. These strategies use massive amounts of\n",
    "collected data, often live feeds for in-play odds, with a host of machine learning algorithms\n",
    "to calculate the odds. Clients involved in betting are often layman to the underlying mathematical complexities of the odds and often have no means of accurately judging the likihoods\n",
    "of outcomes.\n",
    "\n",
    "\n",
    "The most popular and developed sport in the world is Football, and arguably the English\n",
    "Premier league is the most competitive, and it is therefore the most natural choice to study.\n",
    "The game of football is constantly evolving, and features that may be important in one\n",
    "generation may become less so later - there has never been an analytic definition of the\n",
    "game. This is where machine learning could prove invaluable.\n"
   ]
  },
  {
   "cell_type": "markdown",
   "metadata": {},
   "source": [
    "In this project, we look at applying statistical and machine learning methods, in order to attempt at predicting match results based on historic data of the teams that play the match. A majority part of the project builds a framework that takes raw match data and creates suitable features based on historic statistics to match results. We then by using Decision trees and Random forest classifiers and finally we build deep learning logic, combine it with a number of feature selection tools, including PCA, to get the best accuracy metric."
   ]
  },
  {
   "cell_type": "markdown",
   "metadata": {},
   "source": [
    "## Problem Statement"
   ]
  },
  {
   "cell_type": "markdown",
   "metadata": {},
   "source": [
    "The premise then lies, to build a machine learning framework, that can use historic data\n",
    "from football matches between two teams and learn how to best predict outcomes of games.\n",
    "The general outline of the steps to be taken to get to a framework that can get to the premise are as follows:\n",
    "- Recover a source of data with enough information that links team performance to final result.\n",
    "- Build a tool which takes the raw data and transforms it into a format in which each match has a number of historic features based on previous games, such as 'Average goals in x games'.\n",
    "- Use feature selection tools to filter out unimportant/redundant features.\n",
    "- Feed features into a number of machine learning algorithms and decide on the best one to fine-tune.\n",
    "- Fine-tune the chosen machine learning algorithm for the greatest accuracy.\n"
   ]
  },
  {
   "cell_type": "markdown",
   "metadata": {},
   "source": [
    "## Background & Metrics"
   ]
  },
  {
   "cell_type": "markdown",
   "metadata": {},
   "source": [
    "As previously stated, the use of machine learning in the gambling industry has grown in recent past. Along with this steady academic interest has also shot up as well with many academic journals and papers detailing the methodology and results gathered. One such study (PETTERSSON,NYQUIST,2017)[1] used recurrent neural networks to predict the outcome of games with in-game infomration as the game progressed; the study used an accuracy metric, which ranged from 33.5% to 98% as the game progressed. Another study (HERBINET, 2018)[2] used publically available databases along with classical machine learning algorithms (regression, svm etc) to predict match outcomes and expected goals using aggregated statistics and player ratings. The study managed to accurate predict outcome of matches 50% of time.\n",
    "\n",
    "In this project, we will employ the use of the accuracy metric, which simply calculates the percentage of correct predictions vs total predictions of the test data:\n",
    "\n",
    "$$Accuracy=\\frac{\\sum{N_{C}}}{\\sum{N_{total}}}$$\n",
    "\n",
    "Where $N_{C} =1$ for a correct prediction, and $N_{total}$ is the total number of predictions.\n"
   ]
  },
  {
   "cell_type": "markdown",
   "metadata": {},
   "source": [
    "# 2 Data Preprocessing & Exploration"
   ]
  },
  {
   "cell_type": "markdown",
   "metadata": {},
   "source": [
    "We sourced premier league match results from football-data.co.uk, the website has downloadable csv files for each season of the premier league from 1993 [3]. We used data from season 2000-2001 onwards as this data had the most consistancy  in features throughout. "
   ]
  },
  {
   "cell_type": "markdown",
   "metadata": {
    "collapsed": true
   },
   "source": [
    "On first inspection, we see a number of features. These features describe the events that occur in the game, such as total goals by the home side (FTHG). The list below describes what each of these mean. \n",
    "\n",
    "```\n",
    "Div = League Division\n",
    "Date = Match Date (dd/mm/yy)\n",
    "HomeTeam = Home Team\n",
    "AwayTeam = Away Team\n",
    "FTHG and HG = Full Time Home Team Goals\n",
    "FTAG and AG = Full Time Away Team Goals\n",
    "FTR and Res = Full Time Result (H=Home Win, D=Draw, A=Away Win)\n",
    "HTHG = Half Time Home Team Goals\n",
    "HTAG = Half Time Away Team Goals\n",
    "HTR = Half Time Result (H=Home Win, D=Draw, A=Away Win)\n",
    "HS = Home Team Shots\n",
    "AS = Away Team Shots\n",
    "HST = Home Team Shots on Target\n",
    "AST = Away Team Shots on Target\n",
    "HHW = Home Team Hit Woodwork\n",
    "AHW = Away Team Hit Woodwork\n",
    "HC = Home Team Corners\n",
    "AC = Away Team Corners\n",
    "HF = Home Team Fouls Committed\n",
    "AF = Away Team Fouls Committed\n",
    "HFKC = Home Team Free Kicks Conceded\n",
    "AFKC = Away Team Free Kicks Conceded\n",
    "HO = Home Team Offsides\n",
    "AO = Away Team Offsides\n",
    "HY = Home Team Yellow Cards\n",
    "AY = Away Team Yellow Cards\n",
    "HR = Home Team Red Cards\n",
    "\n",
    "```\n",
    "\n",
    "\n"
   ]
  },
  {
   "cell_type": "code",
   "execution_count": 20,
   "metadata": {
    "collapsed": false,
    "scrolled": false
   },
   "outputs": [
    {
     "name": "stdout",
     "output_type": "stream",
     "text": [
      "  Div      Date  HomeTeam       AwayTeam  FTHG  FTAG FTR  HTHG  HTAG HTR  HS  \\\n",
      "0  E0  19/08/00  Charlton       Man City     4     0   H     2     0   H  17   \n",
      "1  E0  19/08/00   Chelsea       West Ham     4     2   H     1     0   H  17   \n",
      "2  E0  19/08/00  Coventry  Middlesbrough     1     3   A     1     1   D   6   \n",
      "3  E0  19/08/00     Derby    Southampton     2     2   D     1     2   A   6   \n",
      "4  E0  19/08/00     Leeds        Everton     2     0   H     2     0   H  17   \n",
      "\n",
      "   AS  HST  AST  HHW  AHW  HC  AC  HF  AF  HO  AO  HY  AY  HR  AR  \n",
      "0   8   14    4    2    1   6   6  13  12   8   6   1   2   0   0  \n",
      "1  12   10    5    1    0   7   7  19  14   2   3   1   2   0   0  \n",
      "2  16    3    9    0    1   8   4  15  21   1   3   5   3   1   0  \n",
      "3  13    4    6    0    0   5   8  11  13   0   2   1   1   0   0  \n",
      "4  12    8    6    0    0   6   4  21  20   6   1   1   3   0   0  \n"
     ]
    }
   ],
   "source": [
    "import pandas as pd\n",
    "import os\n",
    "import numpy as np\n",
    "import matplotlib.pyplot as plt\n",
    "from datetime import datetime\n",
    "import copy\n",
    "os.chdir(\"capstone_proj/csv_files\")\n",
    "\"\"\" In this section, we will take an in-depth view of the dataset. We will see\n",
    "what we have available and whether we can make some initial predictions\"\"\"\n",
    "s0001 = pd.read_csv(\"2000_2001.csv\")\n",
    "colsToKeep = list([\"Div\",\"Date\",\"HomeTeam\",\"AwayTeam\",\"FTHG\",\"HG\",\"FTAG\",\"AG\",\"FTR\",\"Res\",\"HTHG\",\"HTAG\",\"HTR\",\"HS\",\"AS\",\"HST\",\"AST\",\"HHW\",\"AHW\",\"HC\",\"AC\",\"HF\",\"AF\",\"HO\",\"AO\",\"HY\",\"AY\",\"HR\",\"AR\"])\n",
    "allCols = s0001.columns\n",
    "colsToDrop = set(allCols) - set(colsToKeep)\n",
    "s0001 = s0001.drop(labels=colsToDrop,axis=1)\n",
    "### Data ###\n",
    "with pd.option_context('display.max_rows', None, 'display.max_columns', None):  # more options can be specified also\n",
    "    print(s0001.head())\n"
   ]
  },
  {
   "cell_type": "markdown",
   "metadata": {},
   "source": [
    "We constructed basic statistics on the data, the table below shows this in detail. "
   ]
  },
  {
   "cell_type": "code",
   "execution_count": 24,
   "metadata": {
    "collapsed": false
   },
   "outputs": [
    {
     "name": "stdout",
     "output_type": "stream",
     "text": [
      "             FTHG        FTAG        HTHG        HTAG          HS          AS  \\\n",
      "count  380.000000  380.000000  380.000000  380.000000  380.000000  380.000000   \n",
      "mean     1.544737    1.065789    0.686842    0.476316   12.792105    9.378947   \n",
      "std      1.285436    1.029070    0.843623    0.694469    4.859117    3.609366   \n",
      "min      0.000000    0.000000    0.000000    0.000000    0.000000    2.000000   \n",
      "25%      1.000000    0.000000    0.000000    0.000000    9.000000    7.000000   \n",
      "50%      1.000000    1.000000    0.000000    0.000000   12.000000    9.000000   \n",
      "75%      2.000000    2.000000    1.000000    1.000000   16.000000   12.000000   \n",
      "max      6.000000    4.000000    5.000000    4.000000   33.000000   24.000000   \n",
      "\n",
      "              HST         AST         HHW         AHW          HC          AC  \\\n",
      "count  380.000000  380.000000  380.000000  380.000000  380.000000  380.000000   \n",
      "mean     6.163158    4.531579    0.381579    0.223684    6.289474    4.647368   \n",
      "std      2.991582    2.239382    0.640891    0.459399    3.001388    2.742583   \n",
      "min      0.000000    0.000000    0.000000    0.000000    0.000000    0.000000   \n",
      "25%      4.000000    3.000000    0.000000    0.000000    4.000000    3.000000   \n",
      "50%      6.000000    4.000000    0.000000    0.000000    6.000000    4.000000   \n",
      "75%      8.000000    6.000000    1.000000    0.000000    8.000000    6.000000   \n",
      "max     19.000000   14.000000    4.000000    2.000000   17.000000   14.000000   \n",
      "\n",
      "               HF          AF          HO          AO          HY          AY  \\\n",
      "count  380.000000  380.000000  380.000000  380.000000  380.000000  380.000000   \n",
      "mean    12.978947   13.944737    3.628947    3.728947    1.347368    1.794737   \n",
      "std      4.164757    4.382695    2.602354    2.615703    1.260468    1.309585   \n",
      "min      0.000000    1.000000    0.000000    0.000000    0.000000    0.000000   \n",
      "25%     10.000000   11.000000    2.000000    2.000000    0.000000    1.000000   \n",
      "50%     13.000000   13.000000    3.000000    3.000000    1.000000    2.000000   \n",
      "75%     16.000000   17.000000    5.000000    5.000000    2.000000    3.000000   \n",
      "max     25.000000   28.000000   14.000000   17.000000    7.000000    7.000000   \n",
      "\n",
      "               HR          AR  \n",
      "count  380.000000  380.000000  \n",
      "mean     0.084211    0.081579  \n",
      "std      0.287402    0.292704  \n",
      "min      0.000000    0.000000  \n",
      "25%      0.000000    0.000000  \n",
      "50%      0.000000    0.000000  \n",
      "75%      0.000000    0.000000  \n",
      "max      2.000000    2.000000  \n"
     ]
    }
   ],
   "source": [
    "describe = (s0001.describe())\n",
    "\n",
    "with pd.option_context('display.max_rows', None, 'display.max_columns', None):  # more options can be specified also\n",
    "    print((s0001.describe()))\n",
    "\n"
   ]
  },
  {
   "cell_type": "markdown",
   "metadata": {},
   "source": [
    "What we see is that there are 380 games in total in a season. Other interesting things to note are the difference between away and home games, from first glance it shows favourable statistics are higher for home games. In the below plot, we see that home side values are higher in features that are associated with wins such as 'Shots on Target' and lower in features that associate with being under pressure, such as 'Fouls'. What this shows is that there is reason to consider home and away as a potential feature, and so we will seperate features based on this."
   ]
  },
  {
   "cell_type": "code",
   "execution_count": 37,
   "metadata": {
    "collapsed": false,
    "scrolled": false
   },
   "outputs": [
    {
     "data": {
      "image/png": "[encoded data removed]",
      "text/plain": [
       "<matplotlib.figure.Figure at 0x1e68bb73cc0>"
      ]
     },
     "metadata": {},
     "output_type": "display_data"
    }
   ],
   "source": [
    "%matplotlib inline\n",
    "fig=plt.figure(figsize=(18, 8), dpi= 80, facecolor='w', edgecolor='k')\n",
    "pd.DataFrame.to_latex(s0001.describe())\n",
    "# width of the bars\n",
    "barWidth = 0.3\n",
    "# Choose the height of the blue bars\n",
    "bars1 = np.array(describe[1:2][(['FTHG','HTHG','HS','HST','HHW','HC','HF','HO','HY','HR'])]).flatten()\n",
    "# Choose the height of the cyan bars\n",
    "bars2 = np.array(describe[1:2][(['FTAG','HTAG','AS','AST','AHW','AC','AF','AO','AY','AR'])]).flatten()\n",
    "# Choose the height of the error bars (bars1)\n",
    "yer1 = np.array(describe[2:3][(['FTHG','HTHG','HS','HST','HHW','HC','HF','HO','HY','HR'])]).flatten()\n",
    "# Choose the height of the error bars (bars2)\n",
    "yer2 = np.array(describe[2:3][(['FTAG','HTAG','AS','AST','AHW','AC','AF','AO','AY','AR'])]).flatten()\n",
    "# The x position of bars\n",
    "r1 = np.arange(len(bars1.flatten()))\n",
    "r2 = [x + barWidth for x in r1]\n",
    "# Create blue bars\n",
    "plt.bar(r1, bars1, width = barWidth, color = 'blue', edgecolor = 'black', yerr=yer1, capsize=7, label='Home_Side')\n",
    "# Create cyan bars\n",
    "plt.bar(r2, bars2, width = barWidth, color = 'red', edgecolor = 'black', yerr=yer2, capsize=7, label='Away_Side')\n",
    "# general layout\n",
    "plt.xticks([r + barWidth for r in range(len(bars1))], ['Goals Scored', 'Half-time Gaols Scored', 'Shots','Shots on target','Hit Woodwork', 'Corners','Fouls','Offsides','Yellow Cards','Red Cards','Booking points'])\n",
    "plt.ylabel('Average Value')\n",
    "plt.ylim(0)\n",
    "plt.legend()\n",
    "# Show graphic\n",
    "plt.show()"
   ]
  },
  {
   "cell_type": "markdown",
   "metadata": {},
   "source": [
    "The raw format of the data is not suitable to predict anything. We need to consider that features must be of historic values compared to targets and our framework must be flexible to allow us to select the number of games to lookback on. In this project we implement the following\n",
    "\n",
    "1) A queryable database of: \n",
    "* games, keyed on season and the team.\n",
    "* Season long statistics that will be used as fixed team attributes\n",
    "\n",
    "2) A table of featrues and targets that is made by querying the built-up database, with build paremeters allowing one to choose lookback period.\n",
    "\n"
   ]
  },
  {
   "cell_type": "markdown",
   "metadata": {},
   "source": [
    "### Building the database\n",
    "We take the raw data format and load it into multiple Pandas' dataframe keyed by the season. "
   ]
  },
  {
   "cell_type": "code",
   "execution_count": 44,
   "metadata": {
    "collapsed": false
   },
   "outputs": [
    {
     "name": "stdout",
     "output_type": "stream",
     "text": [
      "The following seasons have been loaded in raw format (in yy format) :\n",
      "[0, 1, 2, 3, 4, 5, 6, 7, 8, 9, 10, 11, 12, 13, 14, 15, 16]\n"
     ]
    }
   ],
   "source": [
    "def loadIntoDict(loc):\n",
    "    df = pd.read_csv(loc,na_filter=True)\n",
    "    colsToKeep = list([\"Div\",\"Date\",\"HomeTeam\",\"AwayTeam\",\"FTHG\",\"HG\",\"FTAG\",\"AG\",\"FTR\",\"Res\",\"HTHG\",\"HTAG\",\"HTR\",\"Attendance\",\"Referee\",\"HS\",\"AS\",\"HST\",\"AST\",\"HHW\",\"AHW\",\"HC\",\"AC\",\"HF\",\"AF\",\"HFKC\",\"AFKC\",\"HO\",\"AO\",\"HY\",\"AY\",\"HR\",\"AR\",\"HBP\",\"ABP\"])\n",
    "    allCols = df.columns\n",
    "    colsToDrop = set(allCols) - set(colsToKeep)\n",
    "    return df.drop(labels=colsToDrop,axis=1)\n",
    "## initialise dict\n",
    "raw_season_data={}\n",
    "## load in raw csvs\n",
    "for i,j in enumerate(os.listdir()):\n",
    "    raw_season_data[i]= loadIntoDict(j)\n",
    "    \n",
    "print(\"The following seasons have been loaded in raw format (in yy format) :\")    \n",
    "print(list(raw_season_data.keys()))"
   ]
  },
  {
   "cell_type": "markdown",
   "metadata": {},
   "source": [
    "Next, we build the match 'snapshot' table. For each season, each team will have their matches, whether home or away recorded with the datapoints relating to those games available as a seasonal snapshot. We also record match results as a feature, and one-hot encode them into Win, Lose, Draw features. We see that we can query this database for each team and season via the command at the end: `snapshots[10]['Liverpool']`"
   ]
  },
  {
   "cell_type": "code",
   "execution_count": 54,
   "metadata": {
    "collapsed": false,
    "scrolled": true
   },
   "outputs": [
    {
     "name": "stdout",
     "output_type": "stream",
     "text": [
      "the number of seasons built into the snapshots are:\n",
      "dict_keys([0, 1, 2, 3, 4, 5, 6, 7, 8, 9, 10, 11, 12, 13, 14, 15, 16])\n",
      "In season of 2010, the following teams played:\n",
      "dict_keys(['Aston Villa', 'QPR', 'Newcastle', 'West Brom', 'Arsenal', 'Blackburn', 'Wolves', 'Chelsea', 'Man City', 'Everton', 'Wigan', 'Fulham', 'Liverpool', 'Swansea', 'Norwich', 'Stoke', 'Tottenham', 'Bolton', 'Man United', 'Sunderland'])\n",
      "Liverpools games looked like this:\n",
      "   BigChancesCreated  Corners  CornersAgainst      Date  Draw  FoulsAgainst  \\\n",
      "1                  5        6               3  13/08/11     1            12   \n",
      "2                 10        5               9  20/08/11     0            11   \n",
      "3                 12       12               6  27/08/11     0             7   \n",
      "\n",
      "   FoulsCommited  Goals  GoalsConceded  HTGoals   ...   ShotsAgainst  \\\n",
      "1             17      1              1        1   ...             15   \n",
      "2              6      2              0        0   ...             10   \n",
      "3              5      3              1        1   ...              7   \n",
      "\n",
      "   ShotsAgainstOnTarget  ShotsOnTarget  TeamAgainst  Win  YCards  \\\n",
      "1                     6              4   Sunderland    0       4   \n",
      "2                     6              8      Arsenal    1       2   \n",
      "3                     4              9       Bolton    1       0   \n",
      "\n",
      "   YCardsAgainst  ground match  result  \n",
      "1              4       H     1       D  \n",
      "2              2       A     2       A  \n",
      "3              2       H     3       H  \n",
      "\n",
      "[3 rows x 25 columns]\n"
     ]
    }
   ],
   "source": [
    "## takes in rows of raw data and creates formatted dictionary based on whether the team was plaiyng at home or away\n",
    "\n",
    "def create_home_dict(table,matchNum):\n",
    "    matchDict={}\n",
    "    if any('FTR' == table.keys()):\n",
    "        matchDict={'result':table['FTR'].values[0]}\n",
    "    elif any('Res'== table.keys()):\n",
    "        matchDict = {'result':table['Res'].values[0]}\n",
    "    if any('FTHG' == table.keys()):\n",
    "        matchDict.update({'Goals':table['FTHG'].values[0]})\n",
    "    elif any('HG'== table.keys()):\n",
    "        matchDict.update({'Goals':table['HG'].values[0]})\n",
    "    if any('FTAG' == table.keys()):\n",
    "        matchDict.update({'GoalsConceded':table['FTAG'].values[0]})\n",
    "    elif any('AG'== table.keys()):\n",
    "        matchDict.update({'GoalsConceded':table['AG'].values[0]})\n",
    "    matchDict.update({'match':matchNum,'ground':'H', \\\n",
    "                        'Date':table['Date'].values[0],\\\n",
    "                        'TeamAgainst':table['AwayTeam'].values[0],\\\n",
    "                        'HTGoals':table['HTHG'].values[0], \\\n",
    "                        'HTResult':table['HTR'].values[0], \\\n",
    "                        #'Attendance':table['Attendance'].values[0], \\\n",
    "                        'Shots':table['HS'].values[0],\\\n",
    "                        'ShotsAgainst':table['AS'].values[0],\\\n",
    "                        'ShotsOnTarget':table['HST'].values[0],\\\n",
    "                        'ShotsAgainstOnTarget':table['AST'].values[0],\\\n",
    "                        #'ShotsWoodwork':table['HHW'].values[0],\\\n",
    "                        #'ShotsAgainstWoodwork':table['AHW'].values[0],\\\n",
    "                        'Corners':table['HC'].values[0],\\\n",
    "                        'CornersAgainst':table['AC'].values[0],\\\n",
    "                        'FoulsCommited':table['HF'].values[0],\\\n",
    "                        'FoulsAgainst':table['AF'].values[0],\\\n",
    "                        #'Offsies':table['HO'].values[0],\\\n",
    "                        #'OffsidesAgainst':table['AO'].values[0],\\\n",
    "                        'YCards':table['HY'].values[0],\\\n",
    "                        'YCardsAgainst':table['AY'].values[0],\\\n",
    "                        'RCards':table['HR'].values[0],\\\n",
    "                        'RCardsAgainst':table['AR'].values[0]})\n",
    "                        #'BookingPoints':table['HBP'].values[0],\\\n",
    "                        #'BookingPointsAgainst':table['ABP'].values[0]})\n",
    "\n",
    "    matchDict.update({'BigChancesCreated': matchDict['ShotsOnTarget']+matchDict['Goals']})\n",
    "    if matchDict['result']=='H':\n",
    "        matchDict.update({'Win':1,'Draw':0, 'Lose':0})\n",
    "    elif matchDict['result']=='A':\n",
    "        matchDict.update({'Win':0,'Draw':0, 'Lose':1})\n",
    "    else:\n",
    "        matchDict.update({'Win':0,'Draw':1, 'Lose':0})\n",
    "    return pd.DataFrame(matchDict,index=[matchNum,])\n",
    "\n",
    "\n",
    "def create_away_dict(table,matchNum):\n",
    "    matchDict={}\n",
    "    if any('FTR' == table.keys()):\n",
    "        matchDict={'result':table['FTR'].values[0]}\n",
    "    elif any('Res'== table.keys()):\n",
    "        matchDict = {'result':table['Res'].values[0]}\n",
    "    if any('FTHG' == table.keys()):\n",
    "        matchDict.update({'GoalsConceded':table['FTHG'].values[0]})\n",
    "    elif any('HG'== table.keys()):\n",
    "        matchDict.update({'GoalsConceded':table['HG'].values[0]})\n",
    "    if any('FTAG' == table.keys()):\n",
    "        matchDict.update({'Goals':table['FTAG'].values[0]})\n",
    "    elif any('AG'== table.keys()):\n",
    "        matchDict.update({'Goals':table['AG'].values[0]})\n",
    "    matchDict.update({'match':matchNum,'ground':'A', \\\n",
    "                        'Date':table['Date'].values[0],\\\n",
    "                        'TeamAgainst':table['HomeTeam'].values[0],\\\n",
    "                        'HTGoals':table['HTAG'].values[0], \\\n",
    "                        'HTResult':table['HTR'].values[0], \\\n",
    "                        #'Attendance':table['Attendance'].values[0], \\\n",
    "                        'Shots':table['AS'].values[0],\\\n",
    "                        'ShotsAgainst':table['HS'].values[0],\\\n",
    "                        'ShotsOnTarget':table['AST'].values[0],\\\n",
    "                        'ShotsAgainstOnTarget':table['HST'].values[0],\\\n",
    "                        #'ShotsWoodwork':table['AHW'].values[0],\\\n",
    "                        #'ShotsAgainstWoodwork':table['HHW'].values[0],\\\n",
    "                        'Corners':table['AC'].values[0],\\\n",
    "                        'CornersAgainst':table['HC'].values[0],\\\n",
    "                        'FoulsCommited':table['AF'].values[0],\\\n",
    "                        'FoulsAgainst':table['HF'].values[0],\\\n",
    "                        #'Offsies':table['AO'].values[0],\\\n",
    "                        #'OffsidesAgainst':table['HO'].values[0],\\\n",
    "                        'YCards':table['AY'].values[0],\\\n",
    "                        'YCardsAgainst':table['HY'].values[0],\\\n",
    "                        'RCards':table['AR'].values[0],\\\n",
    "                        'RCardsAgainst':table['HR'].values[0]})\n",
    "                        #'BookingPoints':table['ABP'].values[0],\\\n",
    "                        #'BookingPointsAgainst':table['HBP'].values[0]})\n",
    "    matchDict.update({'BigChancesCreated': matchDict['ShotsOnTarget']+matchDict['Goals']})\n",
    "    if matchDict['result']=='A':\n",
    "        matchDict.update({'Win':1,'Draw':0, 'Lose':0})\n",
    "    elif matchDict['result']=='H':\n",
    "        matchDict.update({'Win':0,'Draw':0, 'Lose':1})\n",
    "    else:\n",
    "        matchDict.update({'Win':0,'Draw':1, 'Lose':0})\n",
    "    return pd.DataFrame(matchDict,index=[matchNum,])\n",
    "\n",
    "# The function below runs through each season, and each distinct team for that season and \n",
    "# uses the above functions to build the snapshot database\n",
    "\n",
    "def build_snapshot_table(raw_data,snapshots):\n",
    "    for i in raw_data.keys():\n",
    "        snapshots[i]={}\n",
    "        for j in list(set(raw_data[i]['AwayTeam'])):\n",
    "            snapshots[i][j] = pd.DataFrame()\n",
    "            tsTable=raw_data[i][(raw_data[i]['AwayTeam']==j) | (raw_data[i]['HomeTeam']==j)]\n",
    "            for k in range(len(tsTable)):\n",
    "                if j == tsTable.iloc[k]['AwayTeam']:\n",
    "                    snapshots[i][j] = snapshots[i][j].append(create_away_dict(tsTable[k:k+1],k+1))\n",
    "                elif j == tsTable.iloc[k]['HomeTeam']:\n",
    "                    snapshots[i][j] = snapshots[i][j].append(create_home_dict(tsTable[k:k+1],k+1))\n",
    "    return snapshots\n",
    "\n",
    "snapshots={}\n",
    "snapshots = build_snapshot_table(raw_season_data,snapshots)\n",
    "print(\"the number of seasons built into the snapshots are:\")\n",
    "print(snapshots.keys())\n",
    "print(\"In season of 2010, the following teams played:\")\n",
    "print(snapshots[10].keys())\n",
    "print(\"Liverpools games looked like this:\")\n",
    "print((snapshots[10]['Liverpool']).head(3))\n"
   ]
  },
  {
   "cell_type": "markdown",
   "metadata": {},
   "source": [
    "Using the database we created, we can build another queryable database featuring season-wide statistics, aggregated over the whole season - with such statistics like \"Points\" \"Goal Difference\" \"Red Cards\" etc.\n",
    "\n",
    "This database is built for all games, all home games and all away games in a season - so that these statistics can be seperately queried."
   ]
  },
  {
   "cell_type": "code",
   "execution_count": 55,
   "metadata": {
    "collapsed": false,
    "scrolled": true
   },
   "outputs": [
    {
     "name": "stdout",
     "output_type": "stream",
     "text": [
      "The following seasons have been loaded\n",
      "dict_keys([0, 1, 2, 3, 4, 5, 6, 7, 8, 9, 10, 11, 12, 13, 14, 15, 16])\n",
      "This is what the 2010 season looked like\n",
      "            Draws  GD  Goals  GoalsAgainst  Losses  Points  RCards  \\\n",
      "Man City        5  64     93            29       5      89       5   \n",
      "Man United      5  56     89            33       5      89       1   \n",
      "Arsenal         7  25     74            49      10      70       4   \n",
      "Tottenham       9  25     66            41       9      69       3   \n",
      "Newcastle       8   5     56            51      11      65       2   \n",
      "\n",
      "                  Team  Wins  YCards    ...     home_avg_BigChancesCreated  \\\n",
      "Man City      Man City    28      56    ...                      14.210526   \n",
      "Man United  Man United    28      51    ...                      14.736842   \n",
      "Arsenal        Arsenal    21      67    ...                      11.789474   \n",
      "Tottenham    Tottenham    20      45    ...                      13.105263   \n",
      "Newcastle    Newcastle    19      67    ...                       9.210526   \n",
      "\n",
      "            home_avg_Corners  home_avg_CornersAgaints  home_avg_Fouls  \\\n",
      "Man City            8.052632                 4.000000        9.315789   \n",
      "Man United          8.894737                 3.421053       10.052632   \n",
      "Arsenal             8.315789                 3.526316       10.052632   \n",
      "Tottenham           7.736842                 3.526316        8.421053   \n",
      "Newcastle           5.578947                 3.789474        9.736842   \n",
      "\n",
      "            home_avg_FoulsAgainst  home_avg_Goals  home_avg_GoalsAgainst  \\\n",
      "Man City                 8.157895        2.894737               0.631579   \n",
      "Man United               9.842105        2.736842               1.000000   \n",
      "Arsenal                 11.684211        2.052632               0.894737   \n",
      "Tottenham               10.157895        2.052632               0.894737   \n",
      "Newcastle               12.210526        1.526316               0.894737   \n",
      "\n",
      "            home_avg_Shots  home_avg_ShotsAgainst  Position  \n",
      "Man City         18.578947               7.684211       1.0  \n",
      "Man United       19.473684              11.894737       2.0  \n",
      "Arsenal          16.842105               7.842105       3.0  \n",
      "Tottenham        18.526316               9.789474       4.0  \n",
      "Newcastle        13.842105              10.947368       5.0  \n",
      "\n",
      "[5 rows x 54 columns]\n",
      "These are the seasonal features available:\n",
      "Index(['Draws', 'GD', 'Goals', 'GoalsAgainst', 'Losses', 'Points', 'RCards',\n",
      "       'Team', 'Wins', 'YCards', 'avg_BigChancesCreated', 'avg_Corners',\n",
      "       'avg_CornersAgaints', 'avg_Fouls', 'avg_FoulsAgainst', 'avg_Goals',\n",
      "       'avg_GoalsAgainst', 'avg_Shots', 'avg_ShotsAgainst', 'away_Draws',\n",
      "       'away_Goals', 'away_GoalsAgainst', 'away_Losses', 'away_RCards',\n",
      "       'away_Team', 'away_Wins', 'away_YCards', 'away_avg_BigChancesCreated',\n",
      "       'away_avg_Corners', 'away_avg_CornersAgaints', 'away_avg_Fouls',\n",
      "       'away_avg_FoulsAgainst', 'away_avg_Goals', 'away_avg_GoalsAgainst',\n",
      "       'away_avg_Shots', 'away_avg_ShotsAgainst', 'home_Draws', 'home_Goals',\n",
      "       'home_GoalsAgainst', 'home_Losses', 'home_RCards', 'home_Team',\n",
      "       'home_Wins', 'home_YCards', 'home_avg_BigChancesCreated',\n",
      "       'home_avg_Corners', 'home_avg_CornersAgaints', 'home_avg_Fouls',\n",
      "       'home_avg_FoulsAgainst', 'home_avg_Goals', 'home_avg_GoalsAgainst',\n",
      "       'home_avg_Shots', 'home_avg_ShotsAgainst', 'Position'],\n",
      "      dtype='object')\n"
     ]
    }
   ],
   "source": [
    "# Take entire dataframe and build a single row of aggregations\n",
    "def build_season_stats(teamDF,team):\n",
    "    return {'Team': team,\n",
    "    'Wins': sum(teamDF['Win']),\n",
    "    'Losses': sum(teamDF['Lose']),\n",
    "    'Draws': sum(teamDF['Draw']),\n",
    "    'Goals': sum(teamDF['Goals']),\n",
    "    'GoalsAgainst': sum(teamDF['GoalsConceded']),\n",
    "    'YCards': sum(teamDF['YCards']),\n",
    "    'RCards': sum(teamDF['RCards']),\n",
    "    'avg_Goals':np.mean(teamDF['Goals']),\n",
    "    'avg_GoalsAgainst':np.mean(teamDF['GoalsConceded']),\n",
    "    'avg_Corners':np.mean(teamDF['Corners']),\n",
    "    'avg_CornersAgaints':np.mean(teamDF['CornersAgainst']),\n",
    "    'avg_Fouls':np.mean(teamDF['FoulsCommited']),\n",
    "    'avg_FoulsAgainst':np.mean(teamDF['FoulsAgainst']),\n",
    "    'avg_Shots':np.mean(teamDF['Shots']),\n",
    "    'avg_ShotsAgainst':np.mean(teamDF['ShotsAgainst']),\n",
    "    'avg_BigChancesCreated':np.mean(teamDF['BigChancesCreated']),\n",
    "    }\n",
    "## Take a season + team snapshot, query all,home and away games into smaller dataframes and feed them into build_season_stats,\n",
    "## Add home and away prefix to show aggregations specific to the stadiums.\n",
    "def build_team_summary(teamDF,team):\n",
    "    homeDF = teamDF.query('ground == \"H\" ')\n",
    "    awayDF = teamDF.query('ground == \"A\" ')\n",
    "    seasonDict = build_season_stats(teamDF, team)\n",
    "    homeDict = build_season_stats(homeDF,team)\n",
    "    awayDict = build_season_stats(awayDF, team)\n",
    "    homeDict = dict(zip([\"home_\" + i for i in homeDict.keys()],homeDict.values()))\n",
    "    awayDict = dict(zip([\"away_\" + i for i in awayDict.keys()],awayDict.values()))\n",
    "    seasonDict= {**seasonDict,**homeDict,**awayDict}\n",
    "    seasonDict = {**seasonDict,**{'Points' : 3*seasonDict['Wins'] + (1 *seasonDict['Draws']), 'GD': seasonDict['Goals'] - seasonDict['GoalsAgainst']  }}\n",
    "\n",
    "    return pd.DataFrame(seasonDict,index=[team,])\n",
    "\n",
    "## Build entire database, take snapshots data and run through season+team data.\n",
    "def build_season_table(snapshots):\n",
    "    seasonTab = {}\n",
    "    for i in snapshots.keys():\n",
    "        seasonTab[i] = pd.DataFrame()\n",
    "        for k in snapshots[i].keys():\n",
    "            seasonTab[i] = seasonTab[i].append(build_team_summary(snapshots[i][k],k))\n",
    "        seasonTab[i] = seasonTab[i].sort_values(by=['Points','GD'],ascending=False)\n",
    "        seasonTab[i]['Position'] = np.linspace(1,20,20)\n",
    "    return seasonTab\n",
    "\n",
    "## build into seasonTable\n",
    "seasonTable = build_season_table(snapshots)\n",
    "\n",
    "print(\"The following seasons have been loaded\")\n",
    "print(seasonTable.keys())\n",
    "print(\"This is what the 2010 season looked like\")\n",
    "print((seasonTable[10].sort_values(by=['Position'],ascending=True)).head())\n",
    "print(\"These are the seasonal features available:\")\n",
    "print(seasonTable[10].keys())\n"
   ]
  },
  {
   "cell_type": "markdown",
   "metadata": {},
   "source": [
    "With the databases made ready, we built the proper feature/target list by querying the databases. We considered a very large number of potential features. Features are broken down by the relevent data relating to the home sides historical statistics and the away sides. The below tables show this for the home side (HS). the exact same features were extracted for the away side (AS). \n"
   ]
  },
  {
   "cell_type": "markdown",
   "metadata": {},
   "source": [
    "|   Previous HS game   | Previous X HS games (5 by default) | Previous X HS-home games (5 by default) |  HS Previous Season Data  |   Previous Season Home Record  |   HS vs Away Team Record  |\n",
    "|:--------------------:|:----------------------------------:|:---------------------------------------:|:-------------------------:|:------------------------------:|:-------------------------:|\n",
    "|     Games Played     |          Average Rest Days         |        Average BigChancesCreated        |          Position         |           home Draws           |            Win            |\n",
    "| Days since last game |      Average BigChancesCreated     |             Average Corners             |           Draws           |           home Goals           |            Draw           |\n",
    "|   BigChancesCreated  |           Average Corners          |              Average points             |             GD            |        home GoalsAgainst       |            Loss           |\n",
    "|        Corners       |           Average points           |              Average YCards             |           Goals           |           home Losses          |           Goals           |\n",
    "|          Win         |           Average YCards           |              Average RCards             |        GoalsAgainst       |           home RCards          |       GoalsConceded       |\n",
    "|         Draw         |           Average RCards           |              Average Goals              |           Losses          |            home Team           |     BigChancesCreated     |\n",
    "|         Loss         |            Average Goals           |          Average GoalsConceded          |           Points          |            home Wins           | Average BigChancesCreated |\n",
    "|         Goals        |        Average GoalsConceded       |                # of Wins                |           RCards          |           home YCards          |      Average Corners      |\n",
    "|     GoalsConceded    |              # of Wins             |               # of Losses               |            Team           | home Average BigChancesCreated |       Average points      |\n",
    "|     FoulsCommited    |             # of Losses            |                # of Draws               |            Wins           |      home Average Corners      |       Average YCards      |\n",
    "|     FoulsAgainst     |             # of Draws             |               # of RCards               |           YCards          |   home Average CornersAgaints  |       Average RCards      |\n",
    "|        RCards        |             # of RCards            |               # of YCards               | Average BigChancesCreated |       home Average Fouls       |       Average Goals       |\n",
    "|     RCardsAgainst    |             # of YCards            |               # of YCards               |      Average Corners      |    home Average FoulsAgainst   |   Average GoalsConceded   |\n",
    "|        YCards        |             # of YCards            |                                         |   Average CornersAgaints  |       home Average Goals       |                           |\n",
    "|     YCardsAgainst    |                                    |                                         |       Average Fouls       |    home Average GoalsAgainst   |                           |\n",
    "|         Shots        |                                    |                                         |    Average FoulsAgainst   |       home Average Shots       |                           |\n",
    "|     ShotsAgainst     |                                    |                                         |       Average Goals       |    home Average ShotsAgainst   |                           |\n",
    "|     ShotsOnTarget    |                                    |                                         |    Average GoalsAgainst   |                                |                           |\n",
    "| ShotsAgainstOnTarget |                                    |                                         |       Average Shots       |                                |                           |"
   ]
  },
  {
   "cell_type": "markdown",
   "metadata": {},
   "source": [
    "For each column of the above, we created specific code to extract/ query the database. The `get_targets` will produce the game results as our target column and also it will one-hot encode the data into `['Win','Lose','Draw']`."
   ]
  },
  {
   "cell_type": "code",
   "execution_count": 56,
   "metadata": {
    "collapsed": true
   },
   "outputs": [],
   "source": [
    "\n",
    "def prev_game_features(prevGame,gameType,md,side):\n",
    "    if type(prevGame) == type(0):\n",
    "        return prev_game_zeros(prevGame, gameType, md, side)\n",
    "    try:\n",
    "        mp = datetime.strptime(prevGame['Date'], \"%d/%m/%y\")\n",
    "    except:\n",
    "        mp = datetime.strptime(prevGame['Date'], \"%d/%m/%Y\")\n",
    "    return {side+'_'+gameType+'_gamesPlayed':prevGame['match'],\n",
    "                    side+'_'+gameType+'_daysRested':(md-mp).days,\n",
    "                    side+'_'+gameType+'_prevGame_BigChancesCreated': prevGame['BigChancesCreated'],\n",
    "                    side+'_'+gameType+'_prevGame_Corners': prevGame['Corners'],\n",
    "                    side+'_'+gameType+'_prevGame_CornersAgainst': prevGame['CornersAgainst'],\n",
    "                    side+'_'+gameType+'_prevGame_Draw': prevGame['Draw'],\n",
    "                    side+'_'+gameType+'_prevGame_FoulsAgainst': prevGame['FoulsAgainst'],\n",
    "                    side+'_'+gameType+'_prevGame_FoulsCommited': prevGame['FoulsCommited'],\n",
    "                    side+'_'+gameType+'_prevGame_Goals': prevGame['Goals'],\n",
    "                    side+'_'+gameType+'_prevGame_GoalsConceded': prevGame['GoalsConceded'],\n",
    "                    side+'_'+gameType+'_prevGame_Lose': prevGame['Lose'],\n",
    "                    side+'_'+gameType+'_prevGame_RCards': prevGame['RCards'],\n",
    "                    side+'_'+gameType+'_prevGame_RCardsAgainst': prevGame['RCardsAgainst'],\n",
    "                    side+'_'+gameType+'_prevGame_Shots': prevGame['Shots'],\n",
    "                    side+'_'+gameType+'_prevGame_ShotsAgainst': prevGame['ShotsAgainst'],\n",
    "                    side+'_'+gameType+'_prevGame_ShotsAgainstOnTarget': prevGame['ShotsAgainstOnTarget'],\n",
    "                    side+'_'+gameType+'_prevGame_ShotsOnTarget' : prevGame['ShotsOnTarget'],\n",
    "                    side+'_'+gameType+'_prevGame_Win': prevGame['Win'],\n",
    "                    side+'_'+gameType+'_prevGame_YCards': prevGame['YCards'],\n",
    "                    side+'_'+gameType+'_prevGame_YCardsAgainst': prevGame['YCardsAgainst']}\n",
    "\n",
    "def prev_game_zeros(prevGame,gameType,md,side):\n",
    "    return  {   side+'_'+gameType+'_gamesPlayed':0,\n",
    "                side+'_'+gameType+'_daysRested':90,\n",
    "                side+'_'+gameType+'_prevGame_BigChancesCreated': 0,\n",
    "                side+'_'+gameType+'_prevGame_Corners':0,\n",
    "                side+'_'+gameType+'_prevGame_CornersAgainst': 0,\n",
    "                side+'_'+gameType+'_prevGame_Draw':0,\n",
    "                side+'_'+gameType+'_prevGame_FoulsAgainst':0,\n",
    "                side+'_'+gameType+'_prevGame_FoulsCommited': 0,\n",
    "                side+'_'+gameType+'_prevGame_Goals':0,\n",
    "                side+'_'+gameType+'_prevGame_GoalsConceded':0,\n",
    "                side+'_'+gameType+'_prevGame_Lose': 0,\n",
    "                side+'_'+gameType+'_prevGame_RCards':0,\n",
    "                side+'_'+gameType+'_prevGame_RCardsAgainst':0,\n",
    "                side+'_'+gameType+'_prevGame_Shots':0,\n",
    "                side+'_'+gameType+'_prevGame_ShotsAgainst': 0,\n",
    "                side+'_'+gameType+'_prevGame_ShotsAgainstOnTarget': 0,\n",
    "                side+'_'+gameType+'_prevGame_ShotsOnTarget' : 0,\n",
    "                side+'_'+gameType+'_prevGame_Win': 0,\n",
    "                side+'_'+gameType+'_prevGame_YCards':0,\n",
    "                side+'_'+gameType+'_prevGame_YCardsAgainst': 0}\n",
    "\n",
    "def prev_games_stats(prevGames,gameType,count,md,side):\n",
    "    return {side+'_'+gameType+'_avgRestDays':calc_avg_restTime(prevGames['Date'].values),\n",
    "        side+'_'+gameType+'_avgBigChancesCreated':np.mean(prevGames['BigChancesCreated']),\n",
    "        side+'_'+gameType+'_avgCorners':np.mean(prevGames['Corners']),\n",
    "        side+'_'+gameType+'_avgPoints':((3*sum(prevGames['Win']))+sum(prevGames['Draw']))/count,\n",
    "        side+'_'+gameType+'_avgYCards':np.mean(prevGames['YCards']),\n",
    "        side+'_'+gameType+'_acgRCards':np.mean(prevGames['RCards']),\n",
    "        side+'_'+gameType+'_avgGoals':np.mean(prevGames['Goals']),\n",
    "        side+'_'+gameType+'_avgGoalsConceded':np.mean(prevGames['GoalsConceded']),\n",
    "        side+'_'+gameType+'_numWins':sum(prevGames['Win']),\n",
    "        side+'_'+gameType+'_numLosses':sum(prevGames['Lose']),\n",
    "        side+'_'+gameType+'_numDraws':sum(prevGames['Draw'])\n",
    "        }\n",
    "\n",
    "def prev_season_stats(prevSeason,gameType,side):\n",
    "    return {\n",
    "        side+'_season_'+'Position':prevSeason['Position'].values[0],\n",
    "        side+'_season_'+'Draws':prevSeason['Draws'].values[0] ,\n",
    "        side+'_season_'+'Wins':prevSeason['Wins'].values[0] ,\n",
    "        side+'_season_'+'Losses':prevSeason['Losses'].values[0] ,\n",
    "        side+'_season_'+'GD':prevSeason['GD'].values[0] ,\n",
    "        side+'_season_'+'Points':prevSeason['Points'].values[0] ,\n",
    "        side+'_season_'+'RCards':prevSeason['RCards'].values[0] ,\n",
    "        side+'_season_'+'YCards':prevSeason['YCards'].values[0] ,\n",
    "        side+'_season_'+'avg_BigChancesCreated':prevSeason['avg_BigChancesCreated'].values[0] ,\n",
    "        side+'_season_'+'avg_Corners':prevSeason['avg_Corners'].values[0] ,\n",
    "        side+'_season_'+'avg_CornersAgaints':prevSeason['avg_CornersAgaints'].values[0] ,\n",
    "        side+'_season_'+'avg_Fouls':prevSeason['avg_Fouls'].values[0] ,\n",
    "        side+'_season_'+'avg_FoulsAgainst':prevSeason['avg_FoulsAgainst'].values[0] ,\n",
    "        side+'_season_'+'avg_Goals':prevSeason['avg_Goals'].values[0] ,\n",
    "        side+'_season_'+'avg_GoalsAgainst':prevSeason['avg_GoalsAgainst'].values[0] ,\n",
    "        side+'_season_'+'avg_Shots':prevSeason['avg_Shots'].values[0] ,\n",
    "        side+'_season_'+'avg_ShotsAgainst':prevSeason['avg_ShotsAgainst'].values[0],\n",
    "        side+'_'+gameType+'_season_'+'Draws':prevSeason[gameType+'_'+'Draws'].values[0] ,\n",
    "        side+'_'+gameType+'_season_'+'Wins':prevSeason[gameType+'_'+'Wins'].values[0] ,\n",
    "        side+'_'+gameType+'_season_'+'Losses':prevSeason[gameType+'_'+'Losses'].values[0] ,\n",
    "        side+'_'+gameType+'_season_'+'RCards':prevSeason[gameType+'_'+'RCards'].values[0] ,\n",
    "        side+'_'+gameType+'_season_'+'YCards':prevSeason[gameType+'_'+'YCards'].values[0] ,\n",
    "        side+'_'+gameType+'_season_'+'avg_BigChancesCreated':prevSeason[gameType+'_'+'avg_BigChancesCreated'].values[0] ,\n",
    "        side+'_'+gameType+'_season_'+'avg_Corners':prevSeason[gameType+'_'+'avg_Corners'].values[0] ,\n",
    "        side+'_'+gameType+'_season_'+'avg_CornersAgaints':prevSeason[gameType+'_'+'avg_CornersAgaints'].values[0] ,\n",
    "        side+'_'+gameType+'_season_'+'avg_Fouls':prevSeason[gameType+'_'+'avg_Fouls'].values[0] ,\n",
    "        side+'_'+gameType+'_season_'+'avg_FoulsAgainst':prevSeason[gameType+'_'+'avg_FoulsAgainst'].values[0] ,\n",
    "        side+'_'+gameType+'_season_'+'avg_Goals':prevSeason[gameType+'_'+'avg_Goals'].values[0] ,\n",
    "        side+'_'+gameType+'_season_'+'avg_GoalsAgainst':prevSeason[gameType+'_'+'avg_GoalsAgainst'].values[0] ,\n",
    "        side+'_'+gameType+'_season_'+'avg_Shots':prevSeason[gameType+'_'+'avg_Shots'].values[0] ,\n",
    "        side+'_'+gameType+'_season_'+'avg_ShotsAgainst':prevSeason[gameType+'_'+'avg_ShotsAgainst'].values[0],\n",
    "    }\n",
    "\n",
    "def prev_vs_stats(prevGames_h,prevGames_a):\n",
    "    return {\n",
    "    'hs_prev_vs_away_Win':prevGames_h['Win'].values[0],\n",
    "    'hs_prev_vs_away_Lose':prevGames_h['Lose'].values[0],\n",
    "    'hs_prev_vs_away_Draw':prevGames_h['Draw'].values[0],\n",
    "    'hs_prev_vs_away_Goals':prevGames_h['Goals'].values[0],\n",
    "    'hs_prev_vs_away_BigChancesCreated':prevGames_h['BigChancesCreated'].values[0],\n",
    "    'hs_vs_away_avgBigChancesCreated':np.mean(prevGames_h['BigChancesCreated'].values[0]),\n",
    "    'hs_vs_away_avgCorners':np.mean(prevGames_h['Corners'].values[0]),\n",
    "    'hs_vs_away_avgYCards':np.mean(prevGames_h['YCards'].values[0]),\n",
    "    'hs_vs_away_avgRCards':np.mean(prevGames_h['RCards'].values[0]),\n",
    "    'hs_vs_away_avgGoals':np.mean(prevGames_h['Goals'].values[0]),\n",
    "    'as_prev_vs_home_Goals':prevGames_a['Goals'].values[0],\n",
    "    'as_prev_vs_home_BigChancesCreated':prevGames_a['BigChancesCreated'].values[0],\n",
    "    'as_vs_home_avgBigChancesCreated':np.mean(prevGames_a['BigChancesCreated'].values[0]),\n",
    "    'as_vs_home_avgCorners':np.mean(prevGames_a['Corners'].values[0]),\n",
    "    'as_vs_home_avgYCards':np.mean(prevGames_a['YCards'].values[0]),\n",
    "    'as_vs_home_avgRCards':np.mean(prevGames_a['RCards'].values[0]),\n",
    "    'as_vs_home_avgGoals':np.mean(prevGames_a['Goals'].values[0])\n",
    "\n",
    "    }\n",
    "\n",
    "def calc_avg_restTime(dates):\n",
    "    avgD=0\n",
    "    dates=copy.deepcopy(dates)\n",
    "    for i in range(len(dates)):\n",
    "        try:\n",
    "            dates[i] = datetime.strptime(dates[i], \"%d/%m/%y\")\n",
    "        except:\n",
    "            dates[i] = datetime.strptime(dates[i], \"%d/%m/%Y\")\n",
    "    for i in range(len(dates))[1:]:\n",
    "        avgD+=(dates[i]-dates[i-1]).days\n",
    "    try:\n",
    "        avgD = avgD/(len(dates)-1)\n",
    "    except:\n",
    "        avgD = 60\n",
    "    return avgD\n",
    "\n",
    "def get_targets(dataDict):\n",
    "        matchDict={}\n",
    "        if any('FTR' == dataDict.keys()):\n",
    "            matchDict={'result':dataDict['FTR']}\n",
    "        elif any('Res'== dataDict.keys()):\n",
    "            matchDict = {'result':dataDict['Res']}\n",
    "        if matchDict['result']=='H':\n",
    "            matchDict.update({'Win':1,'Draw':0, 'Lose':0})\n",
    "        elif matchDict['result']=='A':\n",
    "            matchDict.update({'Win':0,'Draw':0, 'Lose':1})\n",
    "        else:\n",
    "            matchDict.update({'Win':0,'Draw':1, 'Lose':0})\n",
    "        return matchDict\n"
   ]
  },
  {
   "cell_type": "markdown",
   "metadata": {},
   "source": [
    "Omitting the first season$^1$, we went through every match, pinpointed the match number/date/homeside/awayside  and ran queries against the database based on these parameters, we tallied all the queries and fed them through the tools described above to get the relevent features. \n",
    "\n",
    "There are three things to note:\n",
    "\n",
    "* Between seasons, 3 teams leave the premier league into the lower division (Positions 18,19 and 20) and 3 teams come up and join the premir league. This means that lookback into previous seasons will not be available for those teams. To combat this, we made the assumption (perhaps naive) that statistics for new teams could be taken from teams from the previous season based on position. For example if a team has newly been promoted, we made the assumption that the previous season they would have similar enough statistics for the 15th or 16th position.\n",
    "* 'Previous game' features cannot be obtained if the team has not played a game yet. To combat this we made these values = 0. \n",
    "* Because aggregations require previous games to have been played, data for the 1st home or away matches often resulted in NANs. To combat this we saved two datasets, one which removed NANs and one which filled them with 0.\n",
    "\n",
    "<sup>1 Omit the first season because there are no previous seasons to use as features<sup>\n",
    "\n"
   ]
  },
  {
   "cell_type": "code",
   "execution_count": 57,
   "metadata": {
    "collapsed": true
   },
   "outputs": [],
   "source": [
    "### Stats to consider ###\n",
    "def build_features(seasonData,snapshots,rawData,lookback=5):\n",
    "    features= pd.DataFrame()\n",
    "    for i in list(rawData.keys())[1:]:\n",
    "        for j, r in rawData[i].iterrows():\n",
    "            ht = r['HomeTeam']\n",
    "            at = r['AwayTeam']\n",
    "            #Get HomeSide Data\n",
    "            try:\n",
    "                md = datetime.strptime(r['Date'], '%d/%m/%y')\n",
    "            except:\n",
    "                md = datetime.strptime(r['Date'], '%d/%m/%Y')\n",
    "            hs_mn = snapshots[i][ht].query('ground == \"H\" and TeamAgainst ==\"'+at+'\"')['match'].values[0]\n",
    "            if hs_mn>1:\n",
    "                hs_prev_game_single = snapshots[i][ht].loc[hs_mn-1,]\n",
    "            else:\n",
    "                hs_prev_game_single=0\n",
    "            hs_prev_games = snapshots[i][ht].loc[hs_mn-lookback:hs_mn-1,]\n",
    "            hs_prev_home_games= snapshots[i][ht].query('ground == \"H\"')\n",
    "            hs_hg_mn = list(hs_prev_home_games.index).index(hs_mn)\n",
    "            hs_prev_home_games = hs_prev_home_games.iloc[hs_hg_mn-lookback:hs_hg_mn,]\n",
    "            # get previous seasons summaries\n",
    "            if ht in seasonData[i-1]['Team']:\n",
    "                hs_prev_season_sum = seasonData[i-1].loc[seasonData[i-1]['Team']==ht]\n",
    "            else:\n",
    "                hs_prev_season_sum = seasonData[i-1].loc[seasonData[i-1]['Position']==15]\n",
    "            #get previous seasons snapshots\n",
    "            try:\n",
    "                hs_prevSeason = snapshots[i-1][ht]\n",
    "            except:\n",
    "                ##if prev season doesnt exist, pick number 15th as average performance\n",
    "                hs_prevSeason = snapshots[i-1][seasonData[i-1].iloc[14,]['home_Team']]\n",
    "            hs_prevSeason_vs_away = hs_prevSeason.query('TeamAgainst ==\"' + at + '\"')\n",
    "            if not len(hs_prevSeason_vs_away):\n",
    "                    hs_prevSeason_vs_away = hs_prevSeason.query('TeamAgainst ==\"' + seasonData[i-1].iloc[15,]['home_Team'] + '\"')\n",
    "            if not len(hs_prevSeason_vs_away):\n",
    "                    hs_prevSeason_vs_away = hs_prevSeason.query('TeamAgainst ==\"' + seasonData[i-1].iloc[14,]['home_Team'] + '\"')\n",
    "            hs_vs_away = snapshots[i][ht].query('match <'+str(hs_mn)+' and TeamAgainst == \"'+str(at)+'\"')\n",
    "            hs_vs_away =hs_prevSeason_vs_away.append(hs_vs_away)\n",
    "            #Get Away Side Data\n",
    "            as_mn = snapshots[i][at].query('ground == \"A\" and TeamAgainst ==\"'+ht+'\"')['match'].values[0]\n",
    "            if as_mn>1:\n",
    "                as_prev_game_single = snapshots[i][ht].loc[as_mn-1,]\n",
    "            else:\n",
    "                as_prev_game_single=0\n",
    "            as_prev_games = snapshots[i][at].loc[as_mn-lookback:as_mn-1,]\n",
    "            as_prev_away_games= snapshots[i][at].query('ground == \"A\"')\n",
    "            as_ag_mn = list(as_prev_away_games.index).index(as_mn)\n",
    "            as_prev_away_games = as_prev_away_games.iloc[as_ag_mn-lookback:as_ag_mn,]\n",
    "            if at in seasonData[i-1]['Team']:\n",
    "                as_prev_season_sum = seasonData[i-1].loc[seasonData[i-1]['Team']==at]\n",
    "            else:\n",
    "                as_prev_season_sum = seasonData[i-1].loc[seasonData[i-1]['Position']==15]\n",
    "            try:\n",
    "                as_prevSeason = snapshots[i-1][at]\n",
    "            except:\n",
    "                ##if prev season doesnt exist, pick number 15th as average performance\n",
    "                as_prevSeason = snapshots[i-1][seasonData[i-1].iloc[14,]['home_Team']]\n",
    "            as_prevSeason_vs_away = as_prevSeason.query('TeamAgainst ==\"' + ht + '\"')\n",
    "            if not len(as_prevSeason_vs_away):\n",
    "                as_prevSeason_vs_away = as_prevSeason.query('TeamAgainst ==\"' + seasonData[i-1].iloc[15,]['home_Team'] + '\"')\n",
    "            if not len(as_prevSeason_vs_away):\n",
    "                    as_prevSeason_vs_away = as_prevSeason.query('TeamAgainst ==\"' + seasonData[i-1].iloc[14,]['home_Team'] + '\"')\n",
    "            as_vs_away = snapshots[i][at].query('match <'+str(as_mn)+' and TeamAgainst == \"'+str(ht)+'\"')\n",
    "            as_vs_away =as_prevSeason_vs_away.append(as_vs_away)\n",
    "            features=features.append(pd.DataFrame({**prev_game_features(hs_prev_game_single,'home',md,'hs'),\n",
    "            **prev_game_features(as_prev_game_single,'away',md,'as'),\n",
    "            **prev_games_stats(hs_prev_games,'any',lookback,md,'hs'),\n",
    "            **prev_games_stats(hs_prev_home_games,'home',lookback,md,'hs'),\n",
    "            **prev_games_stats(as_prev_games,'any',lookback,md,'hs'),\n",
    "            **prev_games_stats(as_prev_away_games,'away',lookback,md,'as'),\n",
    "            **prev_season_stats(hs_prev_season_sum, 'home', 'hs'),\n",
    "            **prev_season_stats(as_prev_season_sum, 'away', 'as'),\n",
    "            **prev_vs_stats(hs_vs_away, as_vs_away),\n",
    "            **get_targets(r)\n",
    "            },index=[j,]))\n",
    "    return features\n",
    "\n"
   ]
  },
  {
   "cell_type": "code",
   "execution_count": 58,
   "metadata": {
    "collapsed": true
   },
   "outputs": [],
   "source": [
    "### Complete features/Targets without changing NANS\n",
    "complete_features = build_features(seasonTable,snapshots,raw_season_data)\n",
    "complete_targets = complete_features['result']\n",
    "complete_targets_OH= complete_features[(['Win','Lose','Draw'])]\n",
    "\n",
    "## dropped NANS\n",
    "complete_features_dropna = complete_features.dropna()\n",
    "complete_targets_dropna = complete_features_dropna['result']\n",
    "complete_targets_OH_dropna = complete_features_dropna[(['Win','Lose','Draw'])]\n",
    "complete_features_dropna=complete_features_dropna.drop((['Win','Lose','Draw','result']),axis=1)\n",
    "\n",
    "\n",
    "## NANS  = 0\n",
    "complete_features_fillna = complete_features.fillna(0)\n",
    "complete_targets_OH_fillna = complete_features_fillna[(['Win','Lose','Draw'])]\n",
    "complete_targets_fillna = complete_features_fillna['result']\n",
    "complete_features_fillna=complete_features_fillna.drop((['Win','Lose','Draw','result']),axis=1)"
   ]
  },
  {
   "cell_type": "code",
   "execution_count": 66,
   "metadata": {
    "collapsed": false
   },
   "outputs": [
    {
     "name": "stdout",
     "output_type": "stream",
     "text": [
      "Total number of records: 6025\n",
      "Total number of Features: 156\n",
      "Total number of records after dropping NANS: 4385\n"
     ]
    }
   ],
   "source": [
    "print(\"Total number of records: {}\".format(len(complete_features)))\n",
    "print(\"Total number of Features: {}\".format(len(complete_features.keys())))\n",
    "\n",
    "print(\"Total number of records after dropping NANS: {}\".format(len(complete_features_dropna)))\n",
    "\n"
   ]
  },
  {
   "cell_type": "markdown",
   "metadata": {},
   "source": [
    "We see that our total number of features is indeed very high, especially considering that we have only 6025 samples to train with. There is a liklihood that this may fall into the curse of dimenisonality [4]. Essentially, feature space increases rapidly with every new dimension added, and with this the number of samples required to create models with statistical integritiy increases. To combat this, we employ feature selectio, outlined in the next section."
   ]
  },
  {
   "cell_type": "markdown",
   "metadata": {},
   "source": [
    "# 3 Benchmarking\n",
    "\n",
    "Before delving into the Algorithms, we will discuss how are models where benchmarked. The studies previously mentioned show a range of acceptable prediction accuracies. However it must be noted that these use different metrics and look at different outcomes (expected goals etc) so while we will keep them in mind, for this project we wont directly comare with them. A good basic benchmark would be the 'random guess'. Essentially, can our algorithms beat a 3 face die? We calculate the relevant accuracy of that via a guesser code:"
   ]
  },
  {
   "cell_type": "code",
   "execution_count": 67,
   "metadata": {
    "collapsed": true
   },
   "outputs": [],
   "source": [
    "def random_guess(rows):\n",
    "    res = np.zeros([rows,3])\n",
    "    for i in range(rows):\n",
    "        id = random.randint(0, 2)\n",
    "        res[i][id] = 1\n",
    "    return res"
   ]
  },
  {
   "cell_type": "markdown",
   "metadata": {},
   "source": [
    "# 4 Methodology \n",
    "## Decision Tree Classifier\n",
    "The first ML algorithm we use is a Decision Tree classifier. Decision trees are a non-parametric modelling method, whereby data is split at a particular node based on a particular metric inequality or rule. These nodes branch out into further nodes until a target (the classification) is reached, this is called a leaf. The rules/inequalities are decided based on different measures depending on the algorithm used. In this case we use the default CART algorithm from `scikit-learn` which applies the 'gini impurity' as a measure of how good a split is.\n",
    "\n",
    "Gini impurity is a measure of how often a randomly chosen element from the set would be incorrectly labeled if it was randomly labeled according to the distribution of labels in the subset.  The Gini impurity can be computed by summing the probability ${\\displaystyle p_{i}} p_{i}$ of an item with label ${\\displaystyle i}$ i being chosen times the probability ${\\displaystyle \\sum _{k\\neq i}p_{k}=1-p_{i}} {\\displaystyle \\sum _{k\\neq i}p_{k}=1-p_{i}}$ of a mistake in categorizing that item. It reaches its minimum (zero) when all cases in the node fall into a single target category.\n",
    "\n",
    "To compute Gini impurity for a set of items with ${\\displaystyle J}$ classes, suppose ${\\displaystyle i\\in \\{1,2,...,J\\}} {\\displaystyle i\\in \\{1,2,...,J\\}}$, and let ${\\displaystyle p_{i}} p_{i}$ be the fraction of items labeled with class ${\\displaystyle i}$  in the set.\n",
    "\n",
    "$${ {I} _{G}(p)=1-\\sum _{i=1}^{J}{p_{i}}^{2}}$$\n",
    "\n",
    "[5]\n",
    "\n",
    "\n",
    "- Decision tres are often simple to construct and comprehend and make for good baseline benchmarks for machine learning\n",
    "- Their main disadvantage is that they are prone to overfitting\n",
    "\n",
    "In our first attempts, we used the dropped NAN version of the data. The data was split into a training and testing, and we employed grid searching to find the best hyperparameter."
   ]
  },
  {
   "cell_type": "code",
   "execution_count": 80,
   "metadata": {
    "collapsed": false
   },
   "outputs": [],
   "source": [
    "######## Model fit ##########\n",
    "from sklearn.tree import DecisionTreeRegressor\n",
    "from sklearn.tree import DecisionTreeClassifier\n",
    "from sklearn.ensemble import RandomForestClassifier\n",
    "from sklearn.metrics import make_scorer\n",
    "from sklearn.metrics import f1_score\n",
    "from sklearn.model_selection import GridSearchCV\n",
    "from sklearn.model_selection import ShuffleSplit\n",
    "from sklearn.metrics import r2_score\n",
    "from sklearn.metrics import accuracy_score\n",
    "from sklearn.model_selection import train_test_split\n",
    "import random\n"
   ]
  },
  {
   "cell_type": "code",
   "execution_count": 70,
   "metadata": {
    "collapsed": true
   },
   "outputs": [],
   "source": [
    "def performance_metric(y_true, y_predict):\n",
    "    \"\"\" Calculates and returns the performance score between\n",
    "        true and predicted values based on the metric chosen. \"\"\"\n",
    "\n",
    "    score = accuracy_score(y_true,y_predict)\n",
    "\n",
    "    return score\n",
    "\n",
    "\n",
    "\n",
    "def fit_model(X, y):\n",
    "    \"\"\" Performs grid search over the 'max_depth' parameter for a\n",
    "        decision tree regressor trained on the input data [X, y]. \"\"\"\n",
    "\n",
    "    cv_sets = ShuffleSplit(n_splits = 10, test_size = 0.20, random_state = 0)\n",
    "    regressor = DecisionTreeClassifier(random_state=42)\n",
    "    params = {'max_depth':[10,15,16,17,18,19,20,25,30,40,50,70,100]}\n",
    "    scoring_fnc = make_scorer(performance_metric)\n",
    "    grid = GridSearchCV(regressor, params, scoring=scoring_fnc, cv=cv_sets)\n",
    "    grid = grid.fit(X, y)\n",
    "\n",
    "\n",
    "    # Return the optimal model after fitting the data\n",
    "    return grid.best_estimator_"
   ]
  },
  {
   "cell_type": "code",
   "execution_count": 114,
   "metadata": {
    "collapsed": true
   },
   "outputs": [],
   "source": [
    "X_train, X_test, y_train, y_test = train_test_split(complete_features_dropna,complete_targets_OH_dropna,random_state=42)"
   ]
  },
  {
   "cell_type": "markdown",
   "metadata": {},
   "source": [
    "### Decision Tree 1"
   ]
  },
  {
   "cell_type": "code",
   "execution_count": 115,
   "metadata": {
    "collapsed": false
   },
   "outputs": [
    {
     "name": "stdout",
     "output_type": "stream",
     "text": [
      "Parameter 'max_depth' is 18 for the optimal model.\n"
     ]
    },
    {
     "data": {
      "text/plain": [
       "{'class_weight': None,\n",
       " 'criterion': 'gini',\n",
       " 'max_depth': 18,\n",
       " 'max_features': None,\n",
       " 'max_leaf_nodes': None,\n",
       " 'min_impurity_split': 1e-07,\n",
       " 'min_samples_leaf': 1,\n",
       " 'min_samples_split': 2,\n",
       " 'min_weight_fraction_leaf': 0.0,\n",
       " 'presort': False,\n",
       " 'random_state': 42,\n",
       " 'splitter': 'best'}"
      ]
     },
     "execution_count": 115,
     "metadata": {},
     "output_type": "execute_result"
    }
   ],
   "source": [
    "cls = fit_model(X_train, y_train)\n",
    "\n",
    "# Produce the value for 'max_depth'\n",
    "print(\"Parameter 'max_depth' is {} for the optimal model.\".format(cls.get_params()['max_depth']))\n",
    "cls.get_params()\n"
   ]
  },
  {
   "cell_type": "code",
   "execution_count": 116,
   "metadata": {
    "collapsed": false
   },
   "outputs": [
    {
     "name": "stdout",
     "output_type": "stream",
     "text": [
      "Accuracy score for the optimal model is 0.41112123974475845.\n"
     ]
    }
   ],
   "source": [
    "cls = DecisionTreeClassifier(max_depth=cls.get_params()['max_depth'])\n",
    "cls.fit(X_train, y_train)\n",
    "Y_pred = cls.predict(X_test)\n",
    "y_pred_prob = cls.predict_proba(X_test)\n",
    "\n",
    "print(\"Accuracy score for the optimal model is {}.\".format(accuracy_score(y_test,Y_pred))) \n",
    "\n",
    "models_dict={}\n",
    "models_dict.update({'DT1':accuracy_score(y_test,Y_pred)})\n",
    "\n",
    "### BELOW IS FOR VISUALISATION\n",
    "from sklearn.tree import export_graphviz\n",
    "# Export as dot file\n",
    "cls = DecisionTreeClassifier(max_depth=3)\n",
    "cls.fit(X_train, y_train)\n",
    "export_graphviz(cls, out_file='tree.dot', \n",
    "                feature_names = X_train.keys(),\n",
    "                class_names = y_train.keys(),\n",
    "                rounded = True, proportion = False,filled = True)\n",
    "\n"
   ]
  },
  {
   "cell_type": "markdown",
   "metadata": {},
   "source": [
    "We can see in the above, that our intial accuracy is 0.411, around 41% - which is fair for a first model. \n",
    "\n",
    "\n",
    "As a visualisation tool, we can see the first 3 breanches of a potential decision tree.\n",
    "\n",
    "![title](img/DT.png)\n",
    "\n",
    "\n",
    "\n"
   ]
  },
  {
   "cell_type": "markdown",
   "metadata": {},
   "source": [
    "### Random Guess\n",
    "We can compare the decision tree model with the random guess. From the below results, we see that this is 0.3 which is probably within the error of range of the expected value 1/3. "
   ]
  },
  {
   "cell_type": "code",
   "execution_count": 117,
   "metadata": {
    "collapsed": false
   },
   "outputs": [
    {
     "name": "stdout",
     "output_type": "stream",
     "text": [
      "Accuracy score for the random guess model is 0.3017319963536919.\n"
     ]
    }
   ],
   "source": [
    "y_pred = random_guess(len(y_test))\n",
    "print(\"Accuracy score for the random guess model is {}.\".format(accuracy_score(y_test,y_pred))) \n",
    "\n",
    "\n",
    "models_dict.update({'Random_Guess':accuracy_score(y_test,y_pred)})"
   ]
  },
  {
   "cell_type": "markdown",
   "metadata": {},
   "source": [
    "## Features Selection"
   ]
  },
  {
   "cell_type": "markdown",
   "metadata": {},
   "source": [
    "A large part of building sound machine learning software is making sure the feature inputs are optimised. As the number of features increase, so does the need for more samples - we will often find that under these circumstances, models will overfit the data and prediction power in the real world reduces. To combat this we need to reduce the total number of features in the smartest way. In filtering feature selection methods, this can be done by removing redundancies or by keeping the most correlated datapoints. \n",
    "\n",
    "We employ the latter by appylying a Mutual Information scoring metric to the data and the target, and choosing the top 50 features. \n",
    "\n",
    "The mutual information determines how similar the joint distribution $p(x,y)$ is to the products of the singular distribution $p(x)p(y)$. It is given by \n",
    "\n",
    "$$I(X;Y)={∫X} {∫Y} *  p(x,y)\\log{\\frac{p(x,y)}{p(x)p(y)}}dxdy$$\n",
    "\n",
    "where $p(x,y)$ is the joint probability density function of $X$ and $Y$, and where $p(x)$ and $p(y)$ are the marginal density functions.[6]\n"
   ]
  },
  {
   "cell_type": "code",
   "execution_count": 118,
   "metadata": {
    "collapsed": false,
    "scrolled": true
   },
   "outputs": [
    {
     "name": "stdout",
     "output_type": "stream",
     "text": [
      "                                    Specs     Score\n",
      "48                           as_season_GD  0.061747\n",
      "62                    as_season_avg_Shots  0.055326\n",
      "50                       as_season_Points  0.054378\n",
      "51                     as_season_Position  0.053265\n",
      "56                  as_season_avg_Corners  0.052493\n",
      "132                      hs_season_Losses  0.050621\n",
      "60                    as_season_avg_Goals  0.048884\n",
      "133                      hs_season_Points  0.046466\n",
      "136                        hs_season_Wins  0.045416\n",
      "140          hs_season_avg_CornersAgaints  0.045109\n",
      "143                   hs_season_avg_Goals  0.043490\n",
      "63             as_season_avg_ShotsAgainst  0.043426\n",
      "44        as_away_season_avg_ShotsAgainst  0.042794\n",
      "58                    as_season_avg_Fouls  0.042746\n",
      "36   as_away_season_avg_BigChancesCreated  0.042329\n",
      "34                    as_away_season_Wins  0.042148\n",
      "49                       as_season_Losses  0.040021\n",
      "57           as_season_avg_CornersAgaints  0.039205\n",
      "131                          hs_season_GD  0.038982\n",
      "145                   hs_season_avg_Shots  0.038284\n",
      "116  hs_home_season_avg_BigChancesCreated  0.038025\n",
      "146            hs_season_avg_ShotsAgainst  0.037128\n",
      "38      as_away_season_avg_CornersAgaints  0.037091\n",
      "114                   hs_home_season_Wins  0.036354\n",
      "59             as_season_avg_FoulsAgainst  0.035549\n",
      "32                  as_away_season_Losses  0.035238\n",
      "53                         as_season_Wins  0.034546\n",
      "124       hs_home_season_avg_ShotsAgainst  0.033118\n",
      "83                       hs_home_avgGoals  0.031806\n",
      "40        as_away_season_avg_FoulsAgainst  0.030974\n",
      "134                    hs_season_Position  0.030670\n",
      "142            hs_season_avg_FoulsAgainst  0.030660\n",
      "138       hs_season_avg_BigChancesCreated  0.030383\n",
      "139                 hs_season_avg_Corners  0.030182\n",
      "123              hs_home_season_avg_Shots  0.029894\n",
      "61             as_season_avg_GoalsAgainst  0.028258\n",
      "5                       as_away_avgPoints  0.028232\n",
      "39               as_away_season_avg_Fouls  0.028028\n",
      "55        as_season_avg_BigChancesCreated  0.027827\n",
      "121              hs_home_season_avg_Goals  0.027674\n",
      "43               as_away_season_avg_Shots  0.026532\n",
      "79                         hs_any_numWins  0.026333\n",
      "117            hs_home_season_avg_Corners  0.025178\n",
      "144            hs_season_avg_GoalsAgainst  0.024462\n",
      "125     hs_prev_vs_away_BigChancesCreated  0.023856\n",
      "41               as_away_season_avg_Goals  0.023728\n",
      "147       hs_vs_away_avgBigChancesCreated  0.023472\n",
      "74                       hs_any_avgPoints  0.023286\n",
      "120       hs_home_season_avg_FoulsAgainst  0.022759\n",
      "37             as_away_season_avg_Corners  0.022243\n"
     ]
    }
   ],
   "source": [
    "from sklearn.feature_selection import SelectKBest\n",
    "from sklearn.feature_selection import mutual_info_classif\n",
    "X = complete_features_dropna  #independent columns\n",
    "y = complete_targets_dropna  \n",
    "#apply SelectKBest class to extract top X best features\n",
    "\n",
    "bestfeatures = SelectKBest(score_func=mutual_info_classif, k=50)\n",
    "fit = bestfeatures.fit(X,y)\n",
    "dfscores = pd.DataFrame(fit.scores_)\n",
    "dfcolumns = pd.DataFrame(X.columns)\n",
    "#concat two dataframes for better visualization\n",
    "featureScores = pd.concat([dfcolumns,dfscores],axis=1)\n",
    "featureScores.columns = ['Specs','Score']  #naming the dataframe columns\n",
    "print(featureScores.nlargest(50,'Score'))  "
   ]
  },
  {
   "cell_type": "markdown",
   "metadata": {},
   "source": [
    "### Decision Tree 2\n",
    "We followed similar steps as to before but now with the filtered features."
   ]
  },
  {
   "cell_type": "code",
   "execution_count": 119,
   "metadata": {
    "collapsed": false
   },
   "outputs": [
    {
     "name": "stdout",
     "output_type": "stream",
     "text": [
      "Parameter 'max_depth' is 40 for the optimal model.\n",
      "Accuracy score for the optimal model is 0.4247948951686418.\n"
     ]
    }
   ],
   "source": [
    "new_features_list = featureScores.nlargest(50,'Score')['Specs'].values\n",
    "new_features = complete_features_dropna[new_features_list]\n",
    "X_train, X_test, y_train, y_test = train_test_split(new_features,complete_targets_OH_dropna)\n",
    "cls = fit_model(X_train, y_train)\n",
    "\n",
    "# Produce the value for 'max_depth'\n",
    "print(\"Parameter 'max_depth' is {} for the optimal model.\".format(cls.get_params()['max_depth']))\n",
    "cls.get_params()\n",
    "cls = DecisionTreeClassifier(max_depth=cls.get_params()['max_depth'])\n",
    "cls.fit(X_train, y_train)\n",
    "Y_pred = cls.predict(X_test)\n",
    "\n",
    "print(\"Accuracy score for the optimal model is {}.\".format(accuracy_score(y_test,Y_pred))) \n",
    "\n",
    "models_dict.update({'DT2':accuracy_score(y_test,Y_pred)})\n"
   ]
  },
  {
   "cell_type": "markdown",
   "metadata": {},
   "source": [
    "### Decision Tree 3\n",
    "We follow the same method but this time reducing the total number of features to 25"
   ]
  },
  {
   "cell_type": "code",
   "execution_count": 121,
   "metadata": {
    "collapsed": false
   },
   "outputs": [
    {
     "name": "stdout",
     "output_type": "stream",
     "text": [
      "Parameter 'max_depth' is 25 for the optimal model.\n",
      "Accuracy score for the optimal model is 0.41567912488605285.\n"
     ]
    }
   ],
   "source": [
    "\n",
    "bestfeatures = SelectKBest(score_func=mutual_info_classif, k=25)\n",
    "fit = bestfeatures.fit(X,y)\n",
    "dfscores = pd.DataFrame(fit.scores_)\n",
    "dfcolumns = pd.DataFrame(X.columns)\n",
    "#concat two dataframes for better visualization\n",
    "featureScores = pd.concat([dfcolumns,dfscores],axis=1)\n",
    "\n",
    "featureScores.columns = ['Specs','Score']  #naming the dataframe columns\n",
    "new_features_list = featureScores.nlargest(25,'Score')['Specs'].values\n",
    "new_features = complete_features_dropna[new_features_list]\n",
    "X_train, X_test, y_train, y_test = train_test_split(new_features,complete_targets_OH_dropna)\n",
    "cls = fit_model(X_train, y_train)\n",
    "\n",
    "# Produce the value for 'max_depth'\n",
    "print(\"Parameter 'max_depth' is {} for the optimal model.\".format(cls.get_params()['max_depth']))\n",
    "cls.get_params()\n",
    "cls = DecisionTreeClassifier(max_depth=cls.get_params()['max_depth'])\n",
    "cls.fit(X_train, y_train)\n",
    "Y_pred = cls.predict(X_test)\n",
    "\n",
    "print(\"Accuracy score for the optimal model is {}.\".format(accuracy_score(y_test,Y_pred))) \n",
    "\n",
    "models_dict.update({'DT3':accuracy_score(y_test,Y_pred)})\n"
   ]
  },
  {
   "cell_type": "markdown",
   "metadata": {},
   "source": [
    "We see that all three of these produce similar accuracy results. \n",
    "\n",
    "Next we looked at reducing the redundancy in the data (instead of filtering for correlation). We employed the use of Principle Component Analysis \n",
    "## Principle Component Analysis\n",
    "\n",
    "Principle Component Analysis (PCA) is a data modelling technique, which breaks down the dimensions of the present data into its principle components. Data is projected into the principle axis in a manner which would retain the variance along that axis. This is generally done by finding the vectors which point (in order) to the direction of largest variance.\n",
    "\n",
    "To more formally find the directions $u_i$ and $u_j$, we first compute the matrix $\\sigma$ as follows:\n",
    "\n",
    "$$\\sigma=\\Sigma_{i}^{m}\\frac{1}{m}(x^{i})(x^{i})^{T}.$$\n",
    "$\\sigma$ is the covariance matrix of $x$, and $u_i$ and $u_j$ are the $i^{th}$ and $j^{th}$ eigenvectors of $\\sigma$.\n",
    "\n",
    "[7][8]\n",
    "\n",
    "\n",
    "<img src=\"img/PCA.png\" alt=\"drawing\" width=\"600\"/>\n",
    "*PCA Example with 2 Dimensions*\n",
    "\n",
    "After the components have been found, PCA is 'applied' via a transformation via rotation to the new axis. We can then pick the number of principle components to use up to `n_components` as our new feature set. There is a debate about how to select `n_components` but a popular method is to choose based on what features will preseve an (arbitary) percentage of variance, in our case 99%. This is done and shown below [9]: "
   ]
  },
  {
   "cell_type": "code",
   "execution_count": 127,
   "metadata": {
    "collapsed": false,
    "scrolled": false
   },
   "outputs": [
    {
     "data": {
      "image/png": "[encoded data removed]",
      "text/plain": [
       "<matplotlib.figure.Figure at 0x1e68aef0400>"
      ]
     },
     "metadata": {},
     "output_type": "display_data"
    },
    {
     "name": "stdout",
     "output_type": "stream",
     "text": [
      "Best n_components is 95\n"
     ]
    }
   ],
   "source": [
    "from sklearn.model_selection import train_test_split\n",
    "from sklearn.datasets import fetch_lfw_people\n",
    "from sklearn.model_selection import GridSearchCV\n",
    "from sklearn.metrics import classification_report\n",
    "from sklearn.metrics import confusion_matrix\n",
    "from sklearn.decomposition import RandomizedPCA\n",
    "from sklearn.decomposition import PCA\n",
    "from sklearn.preprocessing import MinMaxScaler\n",
    "## Re-sacle data between 0,1 for PCA\n",
    "scaler = MinMaxScaler(feature_range=[0, 1])\n",
    "data_rescaled = scaler.fit_transform(complete_features_dropna)\n",
    "\n",
    "#Fitting the PCA algorithm with our Data\n",
    "pca = PCA().fit(data_rescaled)\n",
    "\n",
    "#Plotting the Cumulative Summation of the Explained Variance\n",
    "fig=plt.figure(figsize=(15, 8), dpi= 80, facecolor='w', edgecolor='k')\n",
    "plt.plot(np.cumsum(pca.explained_variance_ratio_))\n",
    "plt.xlabel('Number of Components')\n",
    "plt.ylabel('Variance (%)') #for each component\n",
    "plt.title('Variance with increasing PCA features')\n",
    "plt.show()\n",
    "n_components = list(np.cumsum(pca.explained_variance_ratio_)).index(np.cumsum(pca.explained_variance_ratio_)[(np.cumsum(pca.explained_variance_ratio_) >= 0.99)][0])\n",
    "print(\"Best n_components is \"+ str(n_components))\n"
   ]
  },
  {
   "cell_type": "markdown",
   "metadata": {},
   "source": [
    "### Decision Tree 4 \n",
    "We use the PCA method to transform our data and apply it to the Decision Tree Classifier"
   ]
  },
  {
   "cell_type": "code",
   "execution_count": 126,
   "metadata": {
    "collapsed": false
   },
   "outputs": [
    {
     "name": "stdout",
     "output_type": "stream",
     "text": [
      "Parameter 'max_depth' is 17 for the optimal model.\n",
      "Accuracy score for the optimal model is 0.4639927073837739.\n"
     ]
    }
   ],
   "source": [
    "X_train, X_test, y_train, y_test = train_test_split(complete_features_dropna,complete_targets_OH_dropna)\n",
    "pca = PCA(n_components=n_components, whiten=True, svd_solver='randomized')\n",
    "\n",
    "\n",
    "pca = pca.fit(X_train)\n",
    "X_train_pca = pca.transform(X_train)\n",
    "X_test_pca = pca.transform(X_test)\n",
    "\n",
    "cls = fit_model(X_train_pca, y_train)\n",
    "print(\"Parameter 'max_depth' is {} for the optimal model.\".format(cls.get_params()['max_depth']))\n",
    "cls.get_params()\n",
    "cls = DecisionTreeClassifier(max_depth=cls.get_params()['max_depth'])\n",
    "cls.fit(X_train, y_train)\n",
    "Y_pred = cls.predict(X_test)\n",
    "\n",
    "print(\"Accuracy score for the optimal model is {}.\".format(accuracy_score(y_test,Y_pred))) \n",
    "\n",
    "models_dict.update({'DT4':accuracy_score(y_test,Y_pred)})\n"
   ]
  },
  {
   "cell_type": "markdown",
   "metadata": {},
   "source": [
    "We see that the Model has performed slightly better than previous models at 46%, however this could be within range of error.\n",
    "\n",
    "Finally, before delving into deep learning, we try to use an ensemble method of Random Forests to whether overfitting is our main bottleneck\n",
    "\n",
    "### Random Forest Classifier 1\n",
    "Simply, Random forests or are an ensemble learning method for classification that work by constructing a multitude of decision trees at training time and outputting the class that is the mode of the classes.\n",
    "\n"
   ]
  },
  {
   "cell_type": "code",
   "execution_count": 128,
   "metadata": {
    "collapsed": false
   },
   "outputs": [
    {
     "name": "stdout",
     "output_type": "stream",
     "text": [
      "Accuracy score for the optimal model is 0.25979945305378305.\n"
     ]
    }
   ],
   "source": [
    "\n",
    "classifier = RandomForestClassifier(max_depth=cls.get_params()['max_depth'])\n",
    "classifier.fit(X_train_pca,y_train)\n",
    "Y_pred = classifier.predict(X_test_pca)\n",
    "print(\"Accuracy score for the optimal model is {}.\".format(accuracy_score(y_test,Y_pred))) \n",
    "\n",
    "models_dict.update({'RF1':accuracy_score(y_test,Y_pred)})"
   ]
  },
  {
   "cell_type": "markdown",
   "metadata": {},
   "source": [
    "We see that for the random forests classifier under PCA features, performance is in-fact worse than the random guess. "
   ]
  },
  {
   "cell_type": "markdown",
   "metadata": {},
   "source": [
    "## Deep Neural Networks\n",
    "\n",
    "In order to increase model accuracy and predictive power, we employed the use of Artificial Neural Networks (ANNs) to model our match data. Neural Networks, as their name suggest are the computational approach to machine learning that is loosely influenced by the mechanisms in the vertebrate brains.  Neurons are connected at nodes, with the input transformed by the node into an output, similar to biological axons. \n",
    "\n",
    "A node/ perceptron takes a set of input data, applies an intrinsic set of weights to produce a linear combination, and the resultant combination is operated by an activation function which produces a singular output. Multiple nodes in a single layer produce multiple outputs (through operations with different parameters), these outputs will be the inputs of the next layer.\n",
    "\n",
    "The general formula for a perceptron is:\n",
    "\n",
    "$${\\displaystyle f(x)  = K(\\Sigma_{i} \\omega_{i}x_{i})}$$\n",
    "\n",
    "where $\\omega_i$ is the parameter or model weight of the feature $x_i$. $K$ is the activation function. Typically used activation functions are *ReLU:* $${\\displaystyle f(x)=x^{+}=\\max(0,x)}$$*hyperbolic tangent* $$tanh(x)$$ or *softmax function* $${\\displaystyle \\sigma (\\mathbf {z} )_{i}={\\frac {e^{z_{i}}}{\\sum _{j=1}^{K}e^{z_{j}}}}}$$\n",
    "\n",
    "A network\n",
    "consists of several layers of these neurons, where connections go from one layer to\n",
    "the other. The first layer is the input layer, the last layer is the output, and all\n",
    "the layers in between are hidden layers. The image below shows a basic visual of this. \n",
    "<img src=\"img/ANN.png\" alt=\"ANN_0\" width=\"600\"/>\n",
    "\n",
    "The output layer will take all the inputs from the model and produce a final output of target probabilities. This is achieved thorugh a special activation function known as the *sigmoid function*:\n",
    "$${\\displaystyle S(x)={\\frac {1}{1+e^{-x}}}={\\frac {e^{x}}{e^{x}+1}}.}$$\n",
    "\n",
    "The 'learning' part is done through two mechanisms, the feedforward described above and backpropagation. Backpropagation is when the weights of the network are updated by calculation of a partial differential of the error function (a function of predictions vs actual targets). Backpropagation occurs at every epoch of the algorithm, and the next epoch uses the newly updated weights.[10]\n"
   ]
  },
  {
   "cell_type": "code",
   "execution_count": 130,
   "metadata": {
    "collapsed": false
   },
   "outputs": [
    {
     "name": "stderr",
     "output_type": "stream",
     "text": [
      "Using TensorFlow backend.\n"
     ]
    }
   ],
   "source": [
    "from keras.models import Sequential\n",
    "from keras.layers import Dense, Dropout, Activation"
   ]
  },
  {
   "cell_type": "markdown",
   "metadata": {},
   "source": [
    "Our first Neural Network architecture is detailed below. We use dropout layers between the hidden layers. These randomly inhibit nodes to reduce overfitting. \n",
    "<img src=\"img/ANN_1.png\" alt=\"ANN\" width=\"600\"/>"
   ]
  },
  {
   "cell_type": "markdown",
   "metadata": {},
   "source": [
    "### Deep Neural Network 1"
   ]
  },
  {
   "cell_type": "code",
   "execution_count": 138,
   "metadata": {
    "collapsed": false,
    "scrolled": true
   },
   "outputs": [],
   "source": [
    "X_train, X_test, y_train, y_test = train_test_split(complete_features_dropna,complete_targets_OH_dropna)\n",
    "\n",
    "X_train, X_test, y_train, y_test     = train_test_split(complete_features_fillna,complete_targets_OH_fillna, test_size=0.2, random_state=1)\n",
    "\n",
    "X_train, X_val, y_train, y_val     = train_test_split(X_train, y_train, test_size=0.2, random_state=1)\n",
    "\n",
    "# Building the model\n",
    "model_1 = Sequential()\n",
    "model_1.add(Dense(64, activation='relu', input_shape=(X_train.shape[1],)))\n",
    "model_1.add(Dropout(.3))\n",
    "model_1.add(Dense(32, activation='tanh'))\n",
    "model_1.add(Dropout(.2))\n",
    "model_1.add(Dense(16, activation='tanh'))\n",
    "model_1.add(Dropout(.2))\n",
    "model_1.add(Dense(y_train.shape[1], activation='softmax'))\n",
    "\n",
    "# Com_3piling the model\n",
    "model_1.compile(loss = 'categorical_crossentropy', optimizer='rmsprop', metrics=['accuracy'])\n",
    "hist=model_1.fit(X_train, y_train, epochs=500, batch_size=15, verbose=0, validation_data=(X_val, y_val))\n",
    "score = model_1.evaluate(X_test, y_test, verbose=0)\n"
   ]
  },
  {
   "cell_type": "code",
   "execution_count": 140,
   "metadata": {
    "collapsed": false,
    "scrolled": false
   },
   "outputs": [
    {
     "data": {
      "image/png": "[encoded data removed]",
      "text/plain": [
       "<matplotlib.figure.Figure at 0x1e690013898>"
      ]
     },
     "metadata": {},
     "output_type": "display_data"
    }
   ],
   "source": [
    "# Get training and test loss histories\n",
    "training_loss = hist.history['loss']\n",
    "test_loss = hist.history['val_loss']\n",
    "\n",
    "# Create count of the number of epochs\n",
    "epoch_count = range(1, len(training_loss) + 1)\n",
    "\n",
    "# Visualize loss history\n",
    "fig=plt.figure(figsize=(12, 8), dpi= 80, facecolor='w', edgecolor='k')\n",
    "plt.plot(epoch_count, training_loss, 'r--')\n",
    "plt.plot(epoch_count, test_loss, 'b-')\n",
    "plt.legend(['Training Loss', 'Test Loss'])\n",
    "plt.xlabel('Epoch')\n",
    "plt.ylabel('Loss')\n",
    "plt.show();"
   ]
  },
  {
   "cell_type": "markdown",
   "metadata": {},
   "source": [
    "What we see is that the validation loss/ accuracy converges to stability after around 15 epochs, whilst the training loss looks to still be reducing at 500. It is likely that we will begin to see overfitting after this point. The final accuracy of the model is around 55%, which is significantly higher than both the random guess and the Decision Tree models."
   ]
  },
  {
   "cell_type": "code",
   "execution_count": 143,
   "metadata": {
    "collapsed": false
   },
   "outputs": [
    {
     "name": "stdout",
     "output_type": "stream",
     "text": [
      "Accuracy of the model is :  0.5493775937072469\n"
     ]
    }
   ],
   "source": [
    "print(\"Accuracy of the model is : \",score[1])\n",
    "models_dict.update({'DNN_1':score[1]})"
   ]
  },
  {
   "cell_type": "markdown",
   "metadata": {},
   "source": [
    "### Deep Neural Network 2 & 3\n",
    "We followed the same pattern as with the Decision Tree, we tried to model our data after feature selection, We also use the zero filled NAN data from this point to further increase the total number of datapoints.  this is shown below: "
   ]
  },
  {
   "cell_type": "code",
   "execution_count": 146,
   "metadata": {
    "collapsed": false
   },
   "outputs": [
    {
     "name": "stdout",
     "output_type": "stream",
     "text": [
      "_________________________________________________________________\n",
      "Layer (type)                 Output Shape              Param #   \n",
      "=================================================================\n",
      "dense_29 (Dense)             (None, 64)                1344      \n",
      "_________________________________________________________________\n",
      "dropout_22 (Dropout)         (None, 64)                0         \n",
      "_________________________________________________________________\n",
      "dense_30 (Dense)             (None, 32)                2080      \n",
      "_________________________________________________________________\n",
      "dropout_23 (Dropout)         (None, 32)                0         \n",
      "_________________________________________________________________\n",
      "dense_31 (Dense)             (None, 16)                528       \n",
      "_________________________________________________________________\n",
      "dropout_24 (Dropout)         (None, 16)                0         \n",
      "_________________________________________________________________\n",
      "dense_32 (Dense)             (None, 3)                 51        \n",
      "=================================================================\n",
      "Total params: 4,003\n",
      "Trainable params: 4,003\n",
      "Non-trainable params: 0\n",
      "_________________________________________________________________\n"
     ]
    },
    {
     "data": {
      "image/png": "[encoded data removed]",
      "text/plain": [
       "<matplotlib.figure.Figure at 0x1e69c28a160>"
      ]
     },
     "metadata": {},
     "output_type": "display_data"
    },
    {
     "name": "stdout",
     "output_type": "stream",
     "text": [
      "Accuracy:  0.5510373447445913\n"
     ]
    }
   ],
   "source": [
    "X = complete_features_fillna  #independent columns\n",
    "y = complete_targets_fillna #target column i.e price range\n",
    "#apply SelectKBest class to extract top 10 best features\n",
    "\n",
    "bestfeatures = SelectKBest(score_func=mutual_info_classif, k=\"all\")\n",
    "fit = bestfeatures.fit(X,y)\n",
    "dfscores = pd.DataFrame(fit.scores_)\n",
    "dfcolumns = pd.DataFrame(X.columns)\n",
    "#concat two dataframes for better visualization\n",
    "featureScores = pd.concat([dfcolumns,dfscores],axis=1)\n",
    "featureScores.columns = ['Specs','Score']  #naming the dataframe columns\n",
    "\n",
    "new_features_list = featureScores.nlargest(20,'Score')['Specs'].values\n",
    "new_features = complete_features_fillna[new_features_list]\n",
    "\n",
    "X_train, X_test, y_train, y_test     = train_test_split(new_features,complete_targets_OH_fillna, test_size=0.2, random_state=1)\n",
    "X_train, X_val, y_train, y_val     = train_test_split(X_train, y_train, test_size=0.2, random_state=1)\n",
    "\n",
    "# Building the model\n",
    "model_2 = Sequential()\n",
    "model_2.add(Dense(64, activation='relu', input_shape=(X_train.shape[1],)))\n",
    "model_2.add(Dropout(.5))\n",
    "model_2.add(Dense(32, activation='tanh'))\n",
    "model_2.add(Dropout(.2))\n",
    "model_2.add(Dense(16, activation='tanh'))\n",
    "model_2.add(Dropout(.2))\n",
    "model_2.add(Dense(y_train.shape[1], activation='softmax'))\n",
    "\n",
    "# Com_3piling the model\n",
    "model_2.compile(loss = 'categorical_crossentropy', optimizer='rmsprop', metrics=['accuracy'])\n",
    "model_2.summary()\n",
    "\n",
    "hist=model_2.fit(X_train, y_train, epochs=500, batch_size=15, verbose=0, validation_data=(X_val, y_val))\n",
    "score = model_2.evaluate(X_test, y_test, verbose=0)\n",
    "# Get training and test loss histories\n",
    "training_loss = hist.history['loss']\n",
    "test_loss = hist.history['val_loss']\n",
    "\n",
    "# Create count of the number of epochs\n",
    "epoch_count = range(1, len(training_loss) + 1)\n",
    "\n",
    "# Visualize loss history\n",
    "fig=plt.figure(figsize=(12, 8), dpi= 80, facecolor='w', edgecolor='k')\n",
    "plt.plot(epoch_count, training_loss, 'r--')\n",
    "plt.plot(epoch_count, test_loss, 'b-')\n",
    "plt.legend(['Training Loss', 'Test Loss'])\n",
    "plt.xlabel('Epoch')\n",
    "plt.ylabel('Loss')\n",
    "plt.show();\n",
    "\n",
    "\n",
    "\n",
    "print(\"Accuracy: \", score[1])\n",
    "models_dict.update({'DNN_2':score[1]})\n",
    "\n",
    "\n",
    "\n"
   ]
  },
  {
   "cell_type": "markdown",
   "metadata": {},
   "source": [
    "We see that accuracy is also around 55%, so no major accuracy increase from above. Next is PCA:"
   ]
  },
  {
   "cell_type": "code",
   "execution_count": 147,
   "metadata": {
    "collapsed": false
   },
   "outputs": [
    {
     "name": "stdout",
     "output_type": "stream",
     "text": [
      "Best n_components is 83\n",
      "_________________________________________________________________\n",
      "Layer (type)                 Output Shape              Param #   \n",
      "=================================================================\n",
      "dense_33 (Dense)             (None, 64)                5376      \n",
      "_________________________________________________________________\n",
      "dropout_25 (Dropout)         (None, 64)                0         \n",
      "_________________________________________________________________\n",
      "dense_34 (Dense)             (None, 32)                2080      \n",
      "_________________________________________________________________\n",
      "dropout_26 (Dropout)         (None, 32)                0         \n",
      "_________________________________________________________________\n",
      "dense_35 (Dense)             (None, 16)                528       \n",
      "_________________________________________________________________\n",
      "dropout_27 (Dropout)         (None, 16)                0         \n",
      "_________________________________________________________________\n",
      "dense_36 (Dense)             (None, 3)                 51        \n",
      "=================================================================\n",
      "Total params: 8,035\n",
      "Trainable params: 8,035\n",
      "Non-trainable params: 0\n",
      "_________________________________________________________________\n",
      "Accuracy:  0.4834663630075574\n"
     ]
    },
    {
     "data": {
      "image/png": "[encoded data removed]",
      "text/plain": [
       "<matplotlib.figure.Figure at 0x1e69230dba8>"
      ]
     },
     "metadata": {},
     "output_type": "display_data"
    },
    {
     "name": "stdout",
     "output_type": "stream",
     "text": [
      "Accuracy:  0.4834663630075574\n"
     ]
    }
   ],
   "source": [
    "scaler = MinMaxScaler(feature_range=[0, 1])\n",
    "data_rescaled = scaler.fit_transform(complete_features_dropna)\n",
    "#Fitting the PCA algorithm with our Data\n",
    "pca = PCA().fit(data_rescaled)\n",
    "\n",
    "\n",
    "n_components = list(np.cumsum(pca.explained_variance_ratio_)).index(np.cumsum(pca.explained_variance_ratio_)[(np.cumsum(pca.explained_variance_ratio_) >= 0.98)][0])\n",
    "print(\"Best n_components is \"+ str(n_components))\n",
    "X_train, X_test, y_train, y_test     = train_test_split(complete_features_dropna,complete_targets_OH_dropna, test_size=0.2, random_state=1)\n",
    "X_train, X_val, y_train, y_val     = train_test_split(X_train, y_train, test_size=0.2, random_state=1)\n",
    "pca = PCA(n_components=n_components, whiten=True, svd_solver='randomized')\n",
    "pca.fit(X_train)\n",
    "X_train_pca = pca.transform(X_train)\n",
    "X_test_pca = pca.transform(X_test)\n",
    "X_val_pca = pca.transform(X_val)\n",
    "\n",
    "\n",
    "# Building the model\n",
    "model_3 = Sequential()\n",
    "model_3.add(Dense(64, activation='sigmoid', input_shape=(X_train_pca.shape[1],)))\n",
    "model_3.add(Dropout(.4))\n",
    "model_3.add(Dense(32, activation='sigmoid'))\n",
    "model_3.add(Dropout(.2))\n",
    "model_3.add(Dense(16, activation='sigmoid'))\n",
    "model_3.add(Dropout(.2))\n",
    "model_3.add(Dense(y_train.shape[1], activation='softmax'))\n",
    "\n",
    "# Com_3piling the model\n",
    "model_3.compile(loss = 'categorical_crossentropy', optimizer='adam', metrics=['accuracy'])\n",
    "model_3.summary()\n",
    "\n",
    "hist = model_3.fit(X_train_pca, y_train, epochs=500, batch_size=15, verbose=0, validation_data=(X_val_pca, y_val),shuffle=1)\n",
    "score = model_3.evaluate(X_test_pca, y_test, verbose=0)\n",
    "print(\"Accuracy: \", score[1])\n",
    "\n",
    "# Get training and test loss histories\n",
    "training_loss = hist.history['loss']\n",
    "test_loss = hist.history['val_loss']\n",
    "\n",
    "# Create count of the number of epochs\n",
    "epoch_count = range(1, len(training_loss) + 1)\n",
    "\n",
    "# Visualize loss history\n",
    "fig=plt.figure(figsize=(12, 8), dpi= 80, facecolor='w', edgecolor='k')\n",
    "plt.plot(epoch_count, training_loss, 'r--')\n",
    "plt.plot(epoch_count, test_loss, 'b-')\n",
    "plt.legend(['Training Loss', 'Test Loss'])\n",
    "plt.xlabel('Epoch')\n",
    "plt.ylabel('Loss')\n",
    "plt.show();\n",
    "\n",
    "\n",
    "\n",
    "print(\"Accuracy: \", score[1])\n",
    "models_dict.update({'DNN_3':score[1]})\n"
   ]
  },
  {
   "cell_type": "markdown",
   "metadata": {},
   "source": [
    "We see that with the PCA regime, clear overfitting occurs early on -- if we re-fit our model with the number of epochs being where the two Losses diverge, we can see that the final accruacy is 54%, similar to previous results."
   ]
  },
  {
   "cell_type": "code",
   "execution_count": 160,
   "metadata": {
    "collapsed": false
   },
   "outputs": [
    {
     "name": "stdout",
     "output_type": "stream",
     "text": [
      "_________________________________________________________________\n",
      "Layer (type)                 Output Shape              Param #   \n",
      "=================================================================\n",
      "dense_37 (Dense)             (None, 64)                5376      \n",
      "_________________________________________________________________\n",
      "dropout_28 (Dropout)         (None, 64)                0         \n",
      "_________________________________________________________________\n",
      "dense_38 (Dense)             (None, 32)                2080      \n",
      "_________________________________________________________________\n",
      "dropout_29 (Dropout)         (None, 32)                0         \n",
      "_________________________________________________________________\n",
      "dense_39 (Dense)             (None, 16)                528       \n",
      "_________________________________________________________________\n",
      "dropout_30 (Dropout)         (None, 16)                0         \n",
      "_________________________________________________________________\n",
      "dense_40 (Dense)             (None, 3)                 51        \n",
      "=================================================================\n",
      "Total params: 8,035\n",
      "Trainable params: 8,035\n",
      "Non-trainable params: 0\n",
      "_________________________________________________________________\n",
      "Accuracy:  0.5370581528275967\n"
     ]
    }
   ],
   "source": [
    "training_loss = hist.history['loss']\n",
    "test_loss = hist.history['val_loss']\n",
    "divergence= np.zeros(len(test_loss))\n",
    "for i in range(len(test_loss)):\n",
    "    divergence[i] = (test_loss[i]<training_loss[i])\n",
    "ind = [i for i, x in enumerate(divergence) if x][-1]\n",
    "n_epochs = epoch_count[ind]\n",
    "\n",
    "\n",
    "# Building the model\n",
    "model_3 = Sequential()\n",
    "model_3.add(Dense(64, activation='sigmoid', input_shape=(X_train_pca.shape[1],)))\n",
    "model_3.add(Dropout(.4))\n",
    "model_3.add(Dense(32, activation='sigmoid'))\n",
    "model_3.add(Dropout(.2))\n",
    "model_3.add(Dense(16, activation='sigmoid'))\n",
    "model_3.add(Dropout(.2))\n",
    "model_3.add(Dense(y_train.shape[1], activation='softmax'))\n",
    "\n",
    "# Com_3piling the model\n",
    "model_3.compile(loss = 'categorical_crossentropy', optimizer='adam', metrics=['accuracy'])\n",
    "model_3.summary()\n",
    "\n",
    "hist = model_3.fit(X_train_pca, y_train, epochs=n_epochs, batch_size=15, verbose=0, validation_data=(X_val_pca, y_val),shuffle=1)\n",
    "score = model_3.evaluate(X_test_pca, y_test, verbose=0)\n",
    "print(\"Accuracy: \", score[1])\n",
    "models_dict.update({'DNN_3':score[1]})\n"
   ]
  },
  {
   "cell_type": "markdown",
   "metadata": {},
   "source": [
    "# 5 Results & Conclusion\n",
    "\n",
    "Below we have plotted the accuracy scores of all the different models we have chosen and refined. What we are able to see is that the accuracies for the models respectively fall within some error range from the following:\n",
    "\n",
    "* Initial DNN = 0.54937759 \n",
    "* DNN with MI Feature selection = 0.55103734\n",
    "* DNN with PCA feature selection 0.53705815 \n",
    "* Initial Decision Tree = 0.41112124 \n",
    "* Decision Tree with MI feature selection(25 features) = 0.4247949\n",
    "* Decision Tree with MI  feature selection (50 features) = 0.41567912\n",
    "* Decision Tree with PCA feature selection =  0.46399271 \n",
    "* Random Forests Classifier = 0.25979945\n",
    "* Random Guessing  = 0.301732  \n",
    "\n",
    "Clearly, Neural networks produced the best predictive power for predicting match outcomes, and Decision Trees come second. Both performed better than random guessing, which is a positive result. \n",
    "\n",
    "It seems as there was not enough evidence to show that any of the feature selection tools had any significant effect to the final result. This may be because of the significance of the weights for the smaller features, these insignificant features made little difference to the final models, and therefore feature selection would not modify much. \n",
    "\n",
    "Neural Networks produced the best results, this is because of their robustness with small datasets compared to number of features. Decisions trees require much more samples in order to reduce overfitting.\n",
    "\n",
    "Overall, because we outperformed our benchmark metric and peformed similarily to the previously mentioned studies, we are justified to call this venture a success. Clearly there is also room for improvement which will only serve to increase predictive ability. \n",
    "\n",
    "\n"
   ]
  },
  {
   "cell_type": "code",
   "execution_count": 193,
   "metadata": {
    "collapsed": false
   },
   "outputs": [
    {
     "data": {
      "image/png": "[encoded data removed]",
      "text/plain": [
       "<matplotlib.figure.Figure at 0x1e6a3ff8320>"
      ]
     },
     "metadata": {},
     "output_type": "display_data"
    }
   ],
   "source": [
    "import matplotlib.pyplot as plt\n",
    "\n",
    "D = models_dict\n",
    "dk = copy.deepcopy(list(D.keys()))\n",
    "dk.sort()\n",
    "sv = np.zeros(len(dk))\n",
    "for i,j in enumerate(dk):\n",
    "    sv[i] = D[j]\n",
    "fig=plt.figure(figsize=(12, 8), dpi= 80, facecolor='w', edgecolor='k')\n",
    "plt.bar(range(len(D)),sv, align='center', color=['cyan', 'cyan', 'cyan', 'green', 'green', 'green', 'green','red','black'])\n",
    "plt.xticks(range(len(D)), list(dk))\n",
    "\n",
    "plt.show()"
   ]
  },
  {
   "cell_type": "markdown",
   "metadata": {},
   "source": [
    "# 6 Reflection & Discussion\n",
    "\n",
    "Looking back at the work done, there are a number of points to take note when discussing obstacles and shortcomings:\n",
    "\n",
    "- For a project such as this, much time is required to research the relevant features - - there is an endless suply of potential metrics that can be shown to influence football matches. This is a whole project by itself. \n",
    "- In relevent terms, data is scarce, the game of football is everywhere but it changes a lot over time, startegies and factors that are important in a certain generation or a certain region may not be nearly as important in another - these changes are very unpredictable and will serve to reduce the reliability to large samples. \n",
    "- There are countless different models and algos that can be suitable in a project like this, we must bare in mind that this is only a snippet of what is possible for this problem.\n",
    "\n",
    "What I found interesting: \n",
    "- Building a database was something was interesting, clearly having the flexibility to query results and create feature list from commands is very powerful. \n",
    "\n",
    "What was difficult:\n",
    "- Difficulty was reflecting ML theory to this dataset, deep learning is popular and is thought of as the ubiquitous algorithm set to use for many problems and hence why it was chosen here, however it does beg the question of whether we have not found something better to suit our dataset.\n",
    "\n",
    "Things to Improve:\n",
    "- Look at changing the lookback window of historic data and trying the models again\n",
    "- Removing a particular feature set, such as previous season data to see if predictive power increases\n",
    "- Try multiple other ANN architectures\n",
    "- Try different models\n",
    "- There are many other interesting features that were not included because of lack of data, things like possession stats, statdium attendence, games from outside prem league, player ratings, injuries and countless more. These stats will be interesting to use.\n",
    "- Look at changing target data set from outcome to exact results, one-hot-encoding the final result may lead to a very long list of potential targets, this may however become non-sensicle.\n",
    "\n",
    "\n"
   ]
  },
  {
   "cell_type": "markdown",
   "metadata": {},
   "source": [
    "# References\n",
    "[1] http://publications.lib.chalmers.se/records/fulltext/250411/250411.pdf\n",
    "\n",
    "[2] https://www.imperial.ac.uk/media/imperial-college/faculty-of-engineering/computing/public/1718-ug-projects/Corentin-Herbinet-Using-Machine-Learning-techniques-to-predict-the-outcome-of-profressional-football-matches.pdf\n",
    "\n",
    "[3] http://www.football-data.co.uk/englandm.php\n",
    "\n",
    "[4] https://en.wikipedia.org/wiki/Curse_of_dimensionality\n",
    "\n",
    "[5] https://en.wikipedia.org/wiki/Decision_tree_learning\n",
    "\n",
    "[6] https://thuijskens.github.io/2017/10/07/feature-selection/\n",
    "\n",
    "[7] http://ufldl.stanford.edu/tutorial/unsupervised/PCAWhitening/\n",
    "\n",
    "[8] http://setosa.io/ev/principal-component-analysis/\n",
    "\n",
    "[9] https://towardsdatascience.com/an-approach-to-choosing-the-number-of-components-in-a-principal-component-analysis-pca-3b9f3d6e73fe\n",
    "\n",
    "[10] http://neuralnetworksanddeeplearning.com/chap2.html\n"
   ]
  }
 ],
 "metadata": {
  "kernelspec": {
   "display_name": "Python 3",
   "language": "python",
   "name": "python3"
  },
  "language_info": {
   "codemirror_mode": {
    "name": "ipython",
    "version": 3
   },
   "file_extension": ".py",
   "mimetype": "text/x-python",
   "name": "python",
   "nbconvert_exporter": "python",
   "pygments_lexer": "ipython3",
   "version": "3.5.2"
  }
 },
 "nbformat": 4,
 "nbformat_minor": 2
}
